{
  "nbformat": 4,
  "nbformat_minor": 0,
  "metadata": {
    "colab": {
      "name": "AML_HW4_Task3_as5961_mt3390.ipynb",
      "provenance": [],
      "collapsed_sections": []
    },
    "kernelspec": {
      "name": "python3",
      "display_name": "Python 3"
    },
    "widgets": {
      "application/vnd.jupyter.widget-state+json": {
        "44f58b8fc1c9441b9f8d81b961c32f2e": {
          "model_module": "@jupyter-widgets/controls",
          "model_name": "HBoxModel",
          "state": {
            "_view_name": "HBoxView",
            "_dom_classes": [],
            "_model_name": "HBoxModel",
            "_view_module": "@jupyter-widgets/controls",
            "_model_module_version": "1.5.0",
            "_view_count": null,
            "_view_module_version": "1.5.0",
            "box_style": "",
            "layout": "IPY_MODEL_0223e3c6ec1e4862a942f3ef655bed0d",
            "_model_module": "@jupyter-widgets/controls",
            "children": [
              "IPY_MODEL_c927003ac3704a6bb484a18c698f65db",
              "IPY_MODEL_1758e8b495da481ea5824c041ca6a0b8"
            ]
          }
        },
        "0223e3c6ec1e4862a942f3ef655bed0d": {
          "model_module": "@jupyter-widgets/base",
          "model_name": "LayoutModel",
          "state": {
            "_view_name": "LayoutView",
            "grid_template_rows": null,
            "right": null,
            "justify_content": null,
            "_view_module": "@jupyter-widgets/base",
            "overflow": null,
            "_model_module_version": "1.2.0",
            "_view_count": null,
            "flex_flow": null,
            "width": null,
            "min_width": null,
            "border": null,
            "align_items": null,
            "bottom": null,
            "_model_module": "@jupyter-widgets/base",
            "top": null,
            "grid_column": null,
            "overflow_y": null,
            "overflow_x": null,
            "grid_auto_flow": null,
            "grid_area": null,
            "grid_template_columns": null,
            "flex": null,
            "_model_name": "LayoutModel",
            "justify_items": null,
            "grid_row": null,
            "max_height": null,
            "align_content": null,
            "visibility": null,
            "align_self": null,
            "height": null,
            "min_height": null,
            "padding": null,
            "grid_auto_rows": null,
            "grid_gap": null,
            "max_width": null,
            "order": null,
            "_view_module_version": "1.2.0",
            "grid_template_areas": null,
            "object_position": null,
            "object_fit": null,
            "grid_auto_columns": null,
            "margin": null,
            "display": null,
            "left": null
          }
        },
        "c927003ac3704a6bb484a18c698f65db": {
          "model_module": "@jupyter-widgets/controls",
          "model_name": "IntProgressModel",
          "state": {
            "_view_name": "ProgressView",
            "style": "IPY_MODEL_4e3b8a07c5d74d9e91eee184a2017e84",
            "_dom_classes": [],
            "description": "Downloading: 100%",
            "_model_name": "IntProgressModel",
            "bar_style": "success",
            "max": 231508,
            "_view_module": "@jupyter-widgets/controls",
            "_model_module_version": "1.5.0",
            "value": 231508,
            "_view_count": null,
            "_view_module_version": "1.5.0",
            "orientation": "horizontal",
            "min": 0,
            "description_tooltip": null,
            "_model_module": "@jupyter-widgets/controls",
            "layout": "IPY_MODEL_f6d7823a741947eca71551ec54276da3"
          }
        },
        "1758e8b495da481ea5824c041ca6a0b8": {
          "model_module": "@jupyter-widgets/controls",
          "model_name": "HTMLModel",
          "state": {
            "_view_name": "HTMLView",
            "style": "IPY_MODEL_7a7227d48d1c42c093c6c65adc760ee4",
            "_dom_classes": [],
            "description": "",
            "_model_name": "HTMLModel",
            "placeholder": "​",
            "_view_module": "@jupyter-widgets/controls",
            "_model_module_version": "1.5.0",
            "value": " 232k/232k [00:00&lt;00:00, 705kB/s]",
            "_view_count": null,
            "_view_module_version": "1.5.0",
            "description_tooltip": null,
            "_model_module": "@jupyter-widgets/controls",
            "layout": "IPY_MODEL_5b2bfdd61fd04830bdc239a5ab452b9f"
          }
        },
        "4e3b8a07c5d74d9e91eee184a2017e84": {
          "model_module": "@jupyter-widgets/controls",
          "model_name": "ProgressStyleModel",
          "state": {
            "_view_name": "StyleView",
            "_model_name": "ProgressStyleModel",
            "description_width": "initial",
            "_view_module": "@jupyter-widgets/base",
            "_model_module_version": "1.5.0",
            "_view_count": null,
            "_view_module_version": "1.2.0",
            "bar_color": null,
            "_model_module": "@jupyter-widgets/controls"
          }
        },
        "f6d7823a741947eca71551ec54276da3": {
          "model_module": "@jupyter-widgets/base",
          "model_name": "LayoutModel",
          "state": {
            "_view_name": "LayoutView",
            "grid_template_rows": null,
            "right": null,
            "justify_content": null,
            "_view_module": "@jupyter-widgets/base",
            "overflow": null,
            "_model_module_version": "1.2.0",
            "_view_count": null,
            "flex_flow": null,
            "width": null,
            "min_width": null,
            "border": null,
            "align_items": null,
            "bottom": null,
            "_model_module": "@jupyter-widgets/base",
            "top": null,
            "grid_column": null,
            "overflow_y": null,
            "overflow_x": null,
            "grid_auto_flow": null,
            "grid_area": null,
            "grid_template_columns": null,
            "flex": null,
            "_model_name": "LayoutModel",
            "justify_items": null,
            "grid_row": null,
            "max_height": null,
            "align_content": null,
            "visibility": null,
            "align_self": null,
            "height": null,
            "min_height": null,
            "padding": null,
            "grid_auto_rows": null,
            "grid_gap": null,
            "max_width": null,
            "order": null,
            "_view_module_version": "1.2.0",
            "grid_template_areas": null,
            "object_position": null,
            "object_fit": null,
            "grid_auto_columns": null,
            "margin": null,
            "display": null,
            "left": null
          }
        },
        "7a7227d48d1c42c093c6c65adc760ee4": {
          "model_module": "@jupyter-widgets/controls",
          "model_name": "DescriptionStyleModel",
          "state": {
            "_view_name": "StyleView",
            "_model_name": "DescriptionStyleModel",
            "description_width": "",
            "_view_module": "@jupyter-widgets/base",
            "_model_module_version": "1.5.0",
            "_view_count": null,
            "_view_module_version": "1.2.0",
            "_model_module": "@jupyter-widgets/controls"
          }
        },
        "5b2bfdd61fd04830bdc239a5ab452b9f": {
          "model_module": "@jupyter-widgets/base",
          "model_name": "LayoutModel",
          "state": {
            "_view_name": "LayoutView",
            "grid_template_rows": null,
            "right": null,
            "justify_content": null,
            "_view_module": "@jupyter-widgets/base",
            "overflow": null,
            "_model_module_version": "1.2.0",
            "_view_count": null,
            "flex_flow": null,
            "width": null,
            "min_width": null,
            "border": null,
            "align_items": null,
            "bottom": null,
            "_model_module": "@jupyter-widgets/base",
            "top": null,
            "grid_column": null,
            "overflow_y": null,
            "overflow_x": null,
            "grid_auto_flow": null,
            "grid_area": null,
            "grid_template_columns": null,
            "flex": null,
            "_model_name": "LayoutModel",
            "justify_items": null,
            "grid_row": null,
            "max_height": null,
            "align_content": null,
            "visibility": null,
            "align_self": null,
            "height": null,
            "min_height": null,
            "padding": null,
            "grid_auto_rows": null,
            "grid_gap": null,
            "max_width": null,
            "order": null,
            "_view_module_version": "1.2.0",
            "grid_template_areas": null,
            "object_position": null,
            "object_fit": null,
            "grid_auto_columns": null,
            "margin": null,
            "display": null,
            "left": null
          }
        },
        "781862224abf4ac19dc639099aa4ede3": {
          "model_module": "@jupyter-widgets/controls",
          "model_name": "HBoxModel",
          "state": {
            "_view_name": "HBoxView",
            "_dom_classes": [],
            "_model_name": "HBoxModel",
            "_view_module": "@jupyter-widgets/controls",
            "_model_module_version": "1.5.0",
            "_view_count": null,
            "_view_module_version": "1.5.0",
            "box_style": "",
            "layout": "IPY_MODEL_73e1a61cfbcf49d3befde65fc58e158d",
            "_model_module": "@jupyter-widgets/controls",
            "children": [
              "IPY_MODEL_f87afd8445474637841d77305d5699bc",
              "IPY_MODEL_b8d038c1b0cb432a85a04d275197267d"
            ]
          }
        },
        "73e1a61cfbcf49d3befde65fc58e158d": {
          "model_module": "@jupyter-widgets/base",
          "model_name": "LayoutModel",
          "state": {
            "_view_name": "LayoutView",
            "grid_template_rows": null,
            "right": null,
            "justify_content": null,
            "_view_module": "@jupyter-widgets/base",
            "overflow": null,
            "_model_module_version": "1.2.0",
            "_view_count": null,
            "flex_flow": null,
            "width": null,
            "min_width": null,
            "border": null,
            "align_items": null,
            "bottom": null,
            "_model_module": "@jupyter-widgets/base",
            "top": null,
            "grid_column": null,
            "overflow_y": null,
            "overflow_x": null,
            "grid_auto_flow": null,
            "grid_area": null,
            "grid_template_columns": null,
            "flex": null,
            "_model_name": "LayoutModel",
            "justify_items": null,
            "grid_row": null,
            "max_height": null,
            "align_content": null,
            "visibility": null,
            "align_self": null,
            "height": null,
            "min_height": null,
            "padding": null,
            "grid_auto_rows": null,
            "grid_gap": null,
            "max_width": null,
            "order": null,
            "_view_module_version": "1.2.0",
            "grid_template_areas": null,
            "object_position": null,
            "object_fit": null,
            "grid_auto_columns": null,
            "margin": null,
            "display": null,
            "left": null
          }
        },
        "f87afd8445474637841d77305d5699bc": {
          "model_module": "@jupyter-widgets/controls",
          "model_name": "IntProgressModel",
          "state": {
            "_view_name": "ProgressView",
            "style": "IPY_MODEL_3a6035e2a536477f9ca200db73f803c5",
            "_dom_classes": [],
            "description": "Downloading: 100%",
            "_model_name": "IntProgressModel",
            "bar_style": "success",
            "max": 361,
            "_view_module": "@jupyter-widgets/controls",
            "_model_module_version": "1.5.0",
            "value": 361,
            "_view_count": null,
            "_view_module_version": "1.5.0",
            "orientation": "horizontal",
            "min": 0,
            "description_tooltip": null,
            "_model_module": "@jupyter-widgets/controls",
            "layout": "IPY_MODEL_20fcef928a1f4f529b052aaa358090ec"
          }
        },
        "b8d038c1b0cb432a85a04d275197267d": {
          "model_module": "@jupyter-widgets/controls",
          "model_name": "HTMLModel",
          "state": {
            "_view_name": "HTMLView",
            "style": "IPY_MODEL_6a1d2634e57444e8950aabc3357868d0",
            "_dom_classes": [],
            "description": "",
            "_model_name": "HTMLModel",
            "placeholder": "​",
            "_view_module": "@jupyter-widgets/controls",
            "_model_module_version": "1.5.0",
            "value": " 361/361 [00:16&lt;00:00, 21.7B/s]",
            "_view_count": null,
            "_view_module_version": "1.5.0",
            "description_tooltip": null,
            "_model_module": "@jupyter-widgets/controls",
            "layout": "IPY_MODEL_53d9721d100d45c2a31b595f6bf5be70"
          }
        },
        "3a6035e2a536477f9ca200db73f803c5": {
          "model_module": "@jupyter-widgets/controls",
          "model_name": "ProgressStyleModel",
          "state": {
            "_view_name": "StyleView",
            "_model_name": "ProgressStyleModel",
            "description_width": "initial",
            "_view_module": "@jupyter-widgets/base",
            "_model_module_version": "1.5.0",
            "_view_count": null,
            "_view_module_version": "1.2.0",
            "bar_color": null,
            "_model_module": "@jupyter-widgets/controls"
          }
        },
        "20fcef928a1f4f529b052aaa358090ec": {
          "model_module": "@jupyter-widgets/base",
          "model_name": "LayoutModel",
          "state": {
            "_view_name": "LayoutView",
            "grid_template_rows": null,
            "right": null,
            "justify_content": null,
            "_view_module": "@jupyter-widgets/base",
            "overflow": null,
            "_model_module_version": "1.2.0",
            "_view_count": null,
            "flex_flow": null,
            "width": null,
            "min_width": null,
            "border": null,
            "align_items": null,
            "bottom": null,
            "_model_module": "@jupyter-widgets/base",
            "top": null,
            "grid_column": null,
            "overflow_y": null,
            "overflow_x": null,
            "grid_auto_flow": null,
            "grid_area": null,
            "grid_template_columns": null,
            "flex": null,
            "_model_name": "LayoutModel",
            "justify_items": null,
            "grid_row": null,
            "max_height": null,
            "align_content": null,
            "visibility": null,
            "align_self": null,
            "height": null,
            "min_height": null,
            "padding": null,
            "grid_auto_rows": null,
            "grid_gap": null,
            "max_width": null,
            "order": null,
            "_view_module_version": "1.2.0",
            "grid_template_areas": null,
            "object_position": null,
            "object_fit": null,
            "grid_auto_columns": null,
            "margin": null,
            "display": null,
            "left": null
          }
        },
        "6a1d2634e57444e8950aabc3357868d0": {
          "model_module": "@jupyter-widgets/controls",
          "model_name": "DescriptionStyleModel",
          "state": {
            "_view_name": "StyleView",
            "_model_name": "DescriptionStyleModel",
            "description_width": "",
            "_view_module": "@jupyter-widgets/base",
            "_model_module_version": "1.5.0",
            "_view_count": null,
            "_view_module_version": "1.2.0",
            "_model_module": "@jupyter-widgets/controls"
          }
        },
        "53d9721d100d45c2a31b595f6bf5be70": {
          "model_module": "@jupyter-widgets/base",
          "model_name": "LayoutModel",
          "state": {
            "_view_name": "LayoutView",
            "grid_template_rows": null,
            "right": null,
            "justify_content": null,
            "_view_module": "@jupyter-widgets/base",
            "overflow": null,
            "_model_module_version": "1.2.0",
            "_view_count": null,
            "flex_flow": null,
            "width": null,
            "min_width": null,
            "border": null,
            "align_items": null,
            "bottom": null,
            "_model_module": "@jupyter-widgets/base",
            "top": null,
            "grid_column": null,
            "overflow_y": null,
            "overflow_x": null,
            "grid_auto_flow": null,
            "grid_area": null,
            "grid_template_columns": null,
            "flex": null,
            "_model_name": "LayoutModel",
            "justify_items": null,
            "grid_row": null,
            "max_height": null,
            "align_content": null,
            "visibility": null,
            "align_self": null,
            "height": null,
            "min_height": null,
            "padding": null,
            "grid_auto_rows": null,
            "grid_gap": null,
            "max_width": null,
            "order": null,
            "_view_module_version": "1.2.0",
            "grid_template_areas": null,
            "object_position": null,
            "object_fit": null,
            "grid_auto_columns": null,
            "margin": null,
            "display": null,
            "left": null
          }
        },
        "d0e44b5e17ba4633bbe7aaa0c05afe36": {
          "model_module": "@jupyter-widgets/controls",
          "model_name": "HBoxModel",
          "state": {
            "_view_name": "HBoxView",
            "_dom_classes": [],
            "_model_name": "HBoxModel",
            "_view_module": "@jupyter-widgets/controls",
            "_model_module_version": "1.5.0",
            "_view_count": null,
            "_view_module_version": "1.5.0",
            "box_style": "",
            "layout": "IPY_MODEL_a37024d3240e4f42834a5f9526061407",
            "_model_module": "@jupyter-widgets/controls",
            "children": [
              "IPY_MODEL_6e390a50d5d74c72aa11cb09dee92c36",
              "IPY_MODEL_d5510ec08ff34e208df709f8826f5b74"
            ]
          }
        },
        "a37024d3240e4f42834a5f9526061407": {
          "model_module": "@jupyter-widgets/base",
          "model_name": "LayoutModel",
          "state": {
            "_view_name": "LayoutView",
            "grid_template_rows": null,
            "right": null,
            "justify_content": null,
            "_view_module": "@jupyter-widgets/base",
            "overflow": null,
            "_model_module_version": "1.2.0",
            "_view_count": null,
            "flex_flow": null,
            "width": null,
            "min_width": null,
            "border": null,
            "align_items": null,
            "bottom": null,
            "_model_module": "@jupyter-widgets/base",
            "top": null,
            "grid_column": null,
            "overflow_y": null,
            "overflow_x": null,
            "grid_auto_flow": null,
            "grid_area": null,
            "grid_template_columns": null,
            "flex": null,
            "_model_name": "LayoutModel",
            "justify_items": null,
            "grid_row": null,
            "max_height": null,
            "align_content": null,
            "visibility": null,
            "align_self": null,
            "height": null,
            "min_height": null,
            "padding": null,
            "grid_auto_rows": null,
            "grid_gap": null,
            "max_width": null,
            "order": null,
            "_view_module_version": "1.2.0",
            "grid_template_areas": null,
            "object_position": null,
            "object_fit": null,
            "grid_auto_columns": null,
            "margin": null,
            "display": null,
            "left": null
          }
        },
        "6e390a50d5d74c72aa11cb09dee92c36": {
          "model_module": "@jupyter-widgets/controls",
          "model_name": "IntProgressModel",
          "state": {
            "_view_name": "ProgressView",
            "style": "IPY_MODEL_4170cc311a3b4934b11bf74289f7eb19",
            "_dom_classes": [],
            "description": "Downloading: 100%",
            "_model_name": "IntProgressModel",
            "bar_style": "success",
            "max": 440473133,
            "_view_module": "@jupyter-widgets/controls",
            "_model_module_version": "1.5.0",
            "value": 440473133,
            "_view_count": null,
            "_view_module_version": "1.5.0",
            "orientation": "horizontal",
            "min": 0,
            "description_tooltip": null,
            "_model_module": "@jupyter-widgets/controls",
            "layout": "IPY_MODEL_4b698588207941e19913ac5d5138da7d"
          }
        },
        "d5510ec08ff34e208df709f8826f5b74": {
          "model_module": "@jupyter-widgets/controls",
          "model_name": "HTMLModel",
          "state": {
            "_view_name": "HTMLView",
            "style": "IPY_MODEL_9cbdbbbc4ee243a79f4a0fb42135db36",
            "_dom_classes": [],
            "description": "",
            "_model_name": "HTMLModel",
            "placeholder": "​",
            "_view_module": "@jupyter-widgets/controls",
            "_model_module_version": "1.5.0",
            "value": " 440M/440M [00:15&lt;00:00, 27.8MB/s]",
            "_view_count": null,
            "_view_module_version": "1.5.0",
            "description_tooltip": null,
            "_model_module": "@jupyter-widgets/controls",
            "layout": "IPY_MODEL_0d4885aa4af6456888c48cbdac869dd3"
          }
        },
        "4170cc311a3b4934b11bf74289f7eb19": {
          "model_module": "@jupyter-widgets/controls",
          "model_name": "ProgressStyleModel",
          "state": {
            "_view_name": "StyleView",
            "_model_name": "ProgressStyleModel",
            "description_width": "initial",
            "_view_module": "@jupyter-widgets/base",
            "_model_module_version": "1.5.0",
            "_view_count": null,
            "_view_module_version": "1.2.0",
            "bar_color": null,
            "_model_module": "@jupyter-widgets/controls"
          }
        },
        "4b698588207941e19913ac5d5138da7d": {
          "model_module": "@jupyter-widgets/base",
          "model_name": "LayoutModel",
          "state": {
            "_view_name": "LayoutView",
            "grid_template_rows": null,
            "right": null,
            "justify_content": null,
            "_view_module": "@jupyter-widgets/base",
            "overflow": null,
            "_model_module_version": "1.2.0",
            "_view_count": null,
            "flex_flow": null,
            "width": null,
            "min_width": null,
            "border": null,
            "align_items": null,
            "bottom": null,
            "_model_module": "@jupyter-widgets/base",
            "top": null,
            "grid_column": null,
            "overflow_y": null,
            "overflow_x": null,
            "grid_auto_flow": null,
            "grid_area": null,
            "grid_template_columns": null,
            "flex": null,
            "_model_name": "LayoutModel",
            "justify_items": null,
            "grid_row": null,
            "max_height": null,
            "align_content": null,
            "visibility": null,
            "align_self": null,
            "height": null,
            "min_height": null,
            "padding": null,
            "grid_auto_rows": null,
            "grid_gap": null,
            "max_width": null,
            "order": null,
            "_view_module_version": "1.2.0",
            "grid_template_areas": null,
            "object_position": null,
            "object_fit": null,
            "grid_auto_columns": null,
            "margin": null,
            "display": null,
            "left": null
          }
        },
        "9cbdbbbc4ee243a79f4a0fb42135db36": {
          "model_module": "@jupyter-widgets/controls",
          "model_name": "DescriptionStyleModel",
          "state": {
            "_view_name": "StyleView",
            "_model_name": "DescriptionStyleModel",
            "description_width": "",
            "_view_module": "@jupyter-widgets/base",
            "_model_module_version": "1.5.0",
            "_view_count": null,
            "_view_module_version": "1.2.0",
            "_model_module": "@jupyter-widgets/controls"
          }
        },
        "0d4885aa4af6456888c48cbdac869dd3": {
          "model_module": "@jupyter-widgets/base",
          "model_name": "LayoutModel",
          "state": {
            "_view_name": "LayoutView",
            "grid_template_rows": null,
            "right": null,
            "justify_content": null,
            "_view_module": "@jupyter-widgets/base",
            "overflow": null,
            "_model_module_version": "1.2.0",
            "_view_count": null,
            "flex_flow": null,
            "width": null,
            "min_width": null,
            "border": null,
            "align_items": null,
            "bottom": null,
            "_model_module": "@jupyter-widgets/base",
            "top": null,
            "grid_column": null,
            "overflow_y": null,
            "overflow_x": null,
            "grid_auto_flow": null,
            "grid_area": null,
            "grid_template_columns": null,
            "flex": null,
            "_model_name": "LayoutModel",
            "justify_items": null,
            "grid_row": null,
            "max_height": null,
            "align_content": null,
            "visibility": null,
            "align_self": null,
            "height": null,
            "min_height": null,
            "padding": null,
            "grid_auto_rows": null,
            "grid_gap": null,
            "max_width": null,
            "order": null,
            "_view_module_version": "1.2.0",
            "grid_template_areas": null,
            "object_position": null,
            "object_fit": null,
            "grid_auto_columns": null,
            "margin": null,
            "display": null,
            "left": null
          }
        }
      }
    },
    "accelerator": "GPU"
  },
  "cells": [
    {
      "cell_type": "markdown",
      "metadata": {
        "id": "sZBB65ga2EB_",
        "colab_type": "text"
      },
      "source": [
        "**Applied Machine Learning - Homework 4 - Task3**\n",
        "\n",
        "Amaury Sudrie (UNI: AS5961)\n",
        "Maxime Tchibozo (UNI: MT3390)"
      ]
    },
    {
      "cell_type": "code",
      "metadata": {
        "id": "764AdbtW1_-7",
        "colab_type": "code",
        "outputId": "d090130a-fa74-4fbc-d03d-8db69fa0dd3d",
        "colab": {
          "base_uri": "https://localhost:8080/",
          "height": 34
        }
      },
      "source": [
        "from google.colab import drive\n",
        "drive.mount('/content/drive')\n",
        "\n",
        "import os\n",
        "os.chdir(\"drive/My Drive/AML/\")"
      ],
      "execution_count": 0,
      "outputs": [
        {
          "output_type": "stream",
          "text": [
            "Drive already mounted at /content/drive; to attempt to forcibly remount, call drive.mount(\"/content/drive\", force_remount=True).\n"
          ],
          "name": "stdout"
        }
      ]
    },
    {
      "cell_type": "code",
      "metadata": {
        "id": "Bba3usv72Ryh",
        "colab_type": "code",
        "colab": {}
      },
      "source": [
        "import pandas as pd\n",
        "import numpy as np\n",
        "import scipy as sp\n",
        "import matplotlib.pyplot as plt\n",
        "\n",
        "import torch\n",
        "#from tqdm import tqdm"
      ],
      "execution_count": 0,
      "outputs": []
    },
    {
      "cell_type": "code",
      "metadata": {
        "id": "UARu0YgC2TrH",
        "colab_type": "code",
        "colab": {}
      },
      "source": [
        "df = pd.read_csv('winemag-data-130k-v2.csv')"
      ],
      "execution_count": 0,
      "outputs": []
    },
    {
      "cell_type": "code",
      "metadata": {
        "id": "-xI7DZsn2UVl",
        "colab_type": "code",
        "outputId": "6058f074-700c-4be9-d2ef-3af8789f5697",
        "colab": {
          "base_uri": "https://localhost:8080/",
          "height": 629
        }
      },
      "source": [
        "df.head()"
      ],
      "execution_count": 0,
      "outputs": [
        {
          "output_type": "execute_result",
          "data": {
            "text/html": [
              "<div>\n",
              "<style scoped>\n",
              "    .dataframe tbody tr th:only-of-type {\n",
              "        vertical-align: middle;\n",
              "    }\n",
              "\n",
              "    .dataframe tbody tr th {\n",
              "        vertical-align: top;\n",
              "    }\n",
              "\n",
              "    .dataframe thead th {\n",
              "        text-align: right;\n",
              "    }\n",
              "</style>\n",
              "<table border=\"1\" class=\"dataframe\">\n",
              "  <thead>\n",
              "    <tr style=\"text-align: right;\">\n",
              "      <th></th>\n",
              "      <th>Unnamed: 0</th>\n",
              "      <th>country</th>\n",
              "      <th>description</th>\n",
              "      <th>designation</th>\n",
              "      <th>points</th>\n",
              "      <th>price</th>\n",
              "      <th>province</th>\n",
              "      <th>region_1</th>\n",
              "      <th>region_2</th>\n",
              "      <th>taster_name</th>\n",
              "      <th>taster_twitter_handle</th>\n",
              "      <th>title</th>\n",
              "      <th>variety</th>\n",
              "      <th>winery</th>\n",
              "    </tr>\n",
              "  </thead>\n",
              "  <tbody>\n",
              "    <tr>\n",
              "      <th>0</th>\n",
              "      <td>0</td>\n",
              "      <td>Italy</td>\n",
              "      <td>Aromas include tropical fruit, broom, brimston...</td>\n",
              "      <td>Vulkà Bianco</td>\n",
              "      <td>87</td>\n",
              "      <td>NaN</td>\n",
              "      <td>Sicily &amp; Sardinia</td>\n",
              "      <td>Etna</td>\n",
              "      <td>NaN</td>\n",
              "      <td>Kerin O’Keefe</td>\n",
              "      <td>@kerinokeefe</td>\n",
              "      <td>Nicosia 2013 Vulkà Bianco  (Etna)</td>\n",
              "      <td>White Blend</td>\n",
              "      <td>Nicosia</td>\n",
              "    </tr>\n",
              "    <tr>\n",
              "      <th>1</th>\n",
              "      <td>1</td>\n",
              "      <td>Portugal</td>\n",
              "      <td>This is ripe and fruity, a wine that is smooth...</td>\n",
              "      <td>Avidagos</td>\n",
              "      <td>87</td>\n",
              "      <td>15.0</td>\n",
              "      <td>Douro</td>\n",
              "      <td>NaN</td>\n",
              "      <td>NaN</td>\n",
              "      <td>Roger Voss</td>\n",
              "      <td>@vossroger</td>\n",
              "      <td>Quinta dos Avidagos 2011 Avidagos Red (Douro)</td>\n",
              "      <td>Portuguese Red</td>\n",
              "      <td>Quinta dos Avidagos</td>\n",
              "    </tr>\n",
              "    <tr>\n",
              "      <th>2</th>\n",
              "      <td>2</td>\n",
              "      <td>US</td>\n",
              "      <td>Tart and snappy, the flavors of lime flesh and...</td>\n",
              "      <td>NaN</td>\n",
              "      <td>87</td>\n",
              "      <td>14.0</td>\n",
              "      <td>Oregon</td>\n",
              "      <td>Willamette Valley</td>\n",
              "      <td>Willamette Valley</td>\n",
              "      <td>Paul Gregutt</td>\n",
              "      <td>@paulgwine</td>\n",
              "      <td>Rainstorm 2013 Pinot Gris (Willamette Valley)</td>\n",
              "      <td>Pinot Gris</td>\n",
              "      <td>Rainstorm</td>\n",
              "    </tr>\n",
              "    <tr>\n",
              "      <th>3</th>\n",
              "      <td>3</td>\n",
              "      <td>US</td>\n",
              "      <td>Pineapple rind, lemon pith and orange blossom ...</td>\n",
              "      <td>Reserve Late Harvest</td>\n",
              "      <td>87</td>\n",
              "      <td>13.0</td>\n",
              "      <td>Michigan</td>\n",
              "      <td>Lake Michigan Shore</td>\n",
              "      <td>NaN</td>\n",
              "      <td>Alexander Peartree</td>\n",
              "      <td>NaN</td>\n",
              "      <td>St. Julian 2013 Reserve Late Harvest Riesling ...</td>\n",
              "      <td>Riesling</td>\n",
              "      <td>St. Julian</td>\n",
              "    </tr>\n",
              "    <tr>\n",
              "      <th>4</th>\n",
              "      <td>4</td>\n",
              "      <td>US</td>\n",
              "      <td>Much like the regular bottling from 2012, this...</td>\n",
              "      <td>Vintner's Reserve Wild Child Block</td>\n",
              "      <td>87</td>\n",
              "      <td>65.0</td>\n",
              "      <td>Oregon</td>\n",
              "      <td>Willamette Valley</td>\n",
              "      <td>Willamette Valley</td>\n",
              "      <td>Paul Gregutt</td>\n",
              "      <td>@paulgwine</td>\n",
              "      <td>Sweet Cheeks 2012 Vintner's Reserve Wild Child...</td>\n",
              "      <td>Pinot Noir</td>\n",
              "      <td>Sweet Cheeks</td>\n",
              "    </tr>\n",
              "  </tbody>\n",
              "</table>\n",
              "</div>"
            ],
            "text/plain": [
              "   Unnamed: 0   country  ...         variety               winery\n",
              "0           0     Italy  ...     White Blend              Nicosia\n",
              "1           1  Portugal  ...  Portuguese Red  Quinta dos Avidagos\n",
              "2           2        US  ...      Pinot Gris            Rainstorm\n",
              "3           3        US  ...        Riesling           St. Julian\n",
              "4           4        US  ...      Pinot Noir         Sweet Cheeks\n",
              "\n",
              "[5 rows x 14 columns]"
            ]
          },
          "metadata": {
            "tags": []
          },
          "execution_count": 4
        }
      ]
    },
    {
      "cell_type": "code",
      "metadata": {
        "id": "ei9ec_7OWZSP",
        "colab_type": "code",
        "colab": {}
      },
      "source": [
        "df = df.drop(columns=\"Unnamed: 0\")"
      ],
      "execution_count": 0,
      "outputs": []
    },
    {
      "cell_type": "code",
      "metadata": {
        "id": "ewSYyO_ZirtA",
        "colab_type": "code",
        "colab": {}
      },
      "source": [
        "df[['description','designation','title']] = df[['description','designation','title']].fillna('missing')"
      ],
      "execution_count": 0,
      "outputs": []
    },
    {
      "cell_type": "markdown",
      "metadata": {
        "id": "8hHpnPfm3-d0",
        "colab_type": "text"
      },
      "source": [
        "## **Question 3.1**\n",
        "Fine-tune a BERT model on the text data alone using the transformers library. "
      ]
    },
    {
      "cell_type": "markdown",
      "metadata": {
        "id": "7xktG7MlK8NO",
        "colab_type": "text"
      },
      "source": [
        "Due to the high memory and computational cost of Bert transformer embedding, we will only encode two of the three text features : **description** and **title**, and see if those embeddings are sufficient to obtain a good score with a Linear Regression model."
      ]
    },
    {
      "cell_type": "code",
      "metadata": {
        "id": "GzgawHPG4BAg",
        "colab_type": "code",
        "colab": {}
      },
      "source": [
        "pip install transformers"
      ],
      "execution_count": 0,
      "outputs": []
    },
    {
      "cell_type": "code",
      "metadata": {
        "id": "PV4yNetjHWuK",
        "colab_type": "code",
        "colab": {}
      },
      "source": [
        "pip install category_encoders"
      ],
      "execution_count": 0,
      "outputs": []
    },
    {
      "cell_type": "code",
      "metadata": {
        "id": "GOCR37oo4M4F",
        "colab_type": "code",
        "colab": {}
      },
      "source": [
        "import tensorflow as tf\n",
        "from transformers import BertModel, BertTokenizer, BertConfig, pipeline\n",
        "\n",
        "from sklearn.model_selection import cross_val_score, train_test_split\n",
        "from sklearn.linear_model import LinearRegression\n",
        "from sklearn.pipeline import make_pipeline\n",
        "from sklearn.compose import make_column_transformer\n",
        "from sklearn.impute import SimpleImputer\n",
        "from sklearn.preprocessing import OneHotEncoder, StandardScaler\n",
        "from sklearn.feature_extraction.text import CountVectorizer, TfidfTransformer\n",
        "\n",
        "from category_encoders.target_encoder import TargetEncoder\n"
      ],
      "execution_count": 0,
      "outputs": []
    },
    {
      "cell_type": "code",
      "metadata": {
        "id": "d2rE2jIf4x0b",
        "colab_type": "code",
        "colab": {}
      },
      "source": [
        "tokenizer = BertTokenizer.from_pretrained('bert-base-uncased')\n",
        "model = BertModel.from_pretrained('bert-base-uncased')\n",
        "\n",
        "config = BertConfig(\n",
        "    hidden_size=128, \n",
        "    num_hidden_layers=6, \n",
        "    num_attention_heads=6).from_pretrained('bert-base-uncased')"
      ],
      "execution_count": 0,
      "outputs": []
    },
    {
      "cell_type": "code",
      "metadata": {
        "id": "DWR0MjDl41km",
        "colab_type": "code",
        "outputId": "91260db1-a3b6-4f4f-d243-e06bab739d85",
        "colab": {
          "base_uri": "https://localhost:8080/",
          "height": 34
        }
      },
      "source": [
        "X, y = df.drop(columns=\"points\"),df[\"points\"]\n",
        "X_train, X_test, y_train, y_test = train_test_split(X,y)\n",
        "\n",
        "#X_train, y_train = X_train.iloc[::3], y_train.iloc[::3]\n",
        "print(np.shape(X_train))"
      ],
      "execution_count": 0,
      "outputs": [
        {
          "output_type": "stream",
          "text": [
            "(97478, 12)\n"
          ],
          "name": "stdout"
        }
      ]
    },
    {
      "cell_type": "code",
      "metadata": {
        "id": "Cfp5Vz2M5S_X",
        "colab_type": "code",
        "colab": {}
      },
      "source": [
        "nlp = pipeline(task=\"feature-extraction\",\n",
        "               model=model,\n",
        "               tokenizer=tokenizer,\n",
        "               device=0)"
      ],
      "execution_count": 0,
      "outputs": []
    },
    {
      "cell_type": "code",
      "metadata": {
        "id": "cvYAPmbvCLKV",
        "colab_type": "code",
        "colab": {}
      },
      "source": [
        "#import time\n",
        "BERT = []\n",
        "new_train_vect = []\n",
        "count = 1\n",
        "\n",
        "for t in X_train['description']:\n",
        "  #tx = time.time()\n",
        "  BERT.append( np.array(nlp(t))[0,0] )\n",
        "  if count%1000 == 0:\n",
        "    new_train_vect.append( np.vstack(BERT) )\n",
        "    del(BERT)\n",
        "    BERT = []\n",
        "\n",
        "  count += 1\n",
        "  #print(time.time()-tx)\n",
        "\n",
        "\n",
        "new_train_vect.append(BERT)\n",
        "del(BERT)"
      ],
      "execution_count": 0,
      "outputs": []
    },
    {
      "cell_type": "code",
      "metadata": {
        "id": "Gtpt9RLm5qSi",
        "colab_type": "code",
        "outputId": "0f90a415-af8d-45c6-d894-a418f26d5737",
        "colab": {
          "base_uri": "https://localhost:8080/",
          "height": 34
        }
      },
      "source": [
        "new_train = np.vstack(new_train_vect)\n",
        "new_train.shape"
      ],
      "execution_count": 0,
      "outputs": [
        {
          "output_type": "execute_result",
          "data": {
            "text/plain": [
              "(97478, 768)"
            ]
          },
          "metadata": {
            "tags": []
          },
          "execution_count": 13
        }
      ]
    },
    {
      "cell_type": "markdown",
      "metadata": {
        "id": "hZrTiBfRLoj8",
        "colab_type": "text"
      },
      "source": [
        "We first fit a Linear Regression model using only the **description** component. Bert has embedded the **description** of each feature as a vector with 768 dimensions."
      ]
    },
    {
      "cell_type": "code",
      "metadata": {
        "id": "LVfr7Hc6oh15",
        "colab_type": "code",
        "outputId": "c236505d-fed3-4f4a-d69c-7b04be2fcb30",
        "colab": {
          "base_uri": "https://localhost:8080/",
          "height": 34
        }
      },
      "source": [
        "model_LR = LinearRegression()\n",
        "\n",
        "scores = cross_val_score(model_LR, new_train, y_train)\n",
        "print(\"Score Linear Regression\", np.mean(scores))\n",
        "#model_LR.fit(new_train, y_train)"
      ],
      "execution_count": 0,
      "outputs": [
        {
          "output_type": "stream",
          "text": [
            "Score Linear Regression 0.5960626179210056\n"
          ],
          "name": "stdout"
        }
      ]
    },
    {
      "cell_type": "markdown",
      "metadata": {
        "id": "jqzXqhUBMUwS",
        "colab_type": "text"
      },
      "source": [
        "Using **description** alone with Bert embedding yields a better score than using **description**,**title** and **designation** together with word2vec embedding (sccore of 56%). We will further improve upon this model by also considering **title**."
      ]
    },
    {
      "cell_type": "markdown",
      "metadata": {
        "id": "dOquleVsLg3O",
        "colab_type": "text"
      },
      "source": [
        ""
      ]
    },
    {
      "cell_type": "code",
      "metadata": {
        "id": "b-JerjuFZF_h",
        "colab_type": "code",
        "colab": {}
      },
      "source": [
        "#import time\n",
        "BERT = []\n",
        "new_train_vect2 = []\n",
        "count = 1\n",
        "\n",
        "for t in X_train['title']:\n",
        "  #tx = time.time()\n",
        "  BERT.append( np.array(nlp(t))[0,0] )\n",
        "  if count%1000 == 0:\n",
        "    new_train_vect2.append( np.vstack(BERT) )\n",
        "    del(BERT)\n",
        "    BERT = []\n",
        "\n",
        "  count += 1\n",
        "  #print(time.time()-tx)\n",
        "\n",
        "\n",
        "new_train_vect2.append(BERT)\n",
        "del(BERT)"
      ],
      "execution_count": 0,
      "outputs": []
    },
    {
      "cell_type": "code",
      "metadata": {
        "id": "BEjEFtvaz1Zz",
        "colab_type": "code",
        "outputId": "5fe1fcbf-496b-4092-d247-f8d84d3d66c1",
        "colab": {
          "base_uri": "https://localhost:8080/",
          "height": 34
        }
      },
      "source": [
        "new_train2 = np.hstack( [np.vstack(new_train_vect2), new_train] )\n",
        "new_train2.shape"
      ],
      "execution_count": 0,
      "outputs": [
        {
          "output_type": "execute_result",
          "data": {
            "text/plain": [
              "(97478, 1536)"
            ]
          },
          "metadata": {
            "tags": []
          },
          "execution_count": 18
        }
      ]
    },
    {
      "cell_type": "code",
      "metadata": {
        "id": "kxwij0dq0dam",
        "colab_type": "code",
        "outputId": "a36eb8c3-712f-418b-c2d3-2599cf214562",
        "colab": {
          "base_uri": "https://localhost:8080/",
          "height": 34
        }
      },
      "source": [
        "model_LR = LinearRegression()\n",
        "\n",
        "scores = cross_val_score(model_LR, new_train2, y_train)\n",
        "print(\"Score Linear Regression\", np.mean(scores))\n",
        "#model_LR.fit(new_train, y_train)"
      ],
      "execution_count": 0,
      "outputs": [
        {
          "output_type": "stream",
          "text": [
            "Score Linear Regression 0.6429778134483181\n"
          ],
          "name": "stdout"
        }
      ]
    },
    {
      "cell_type": "markdown",
      "metadata": {
        "id": "QFbuTrj3OwZA",
        "colab_type": "text"
      },
      "source": [
        "A Linear Regression model using Bert embedding for **description** and **title** yields a similar score to a ridge model with Bag of Words embedding using Tf-idf (score was 68%). However, the Bert-embedded vectors have shape (,1536), whereas the Tf-idf vectors had size (,4000). Since Linear Regression and Ridge usually perform better when we increase the number of features (so long as those features are independent), this means that the Bert embedded vectors contain much more information on the target than both word2vec vectors and Tf-idf with Bag of Word vectors."
      ]
    },
    {
      "cell_type": "markdown",
      "metadata": {
        "id": "PBBSBcGJB8oD",
        "colab_type": "text"
      },
      "source": [
        "## **Question 3.2**\n",
        "How does this model compare to a BoW model, and how does it compare to a model using all features?"
      ]
    },
    {
      "cell_type": "markdown",
      "metadata": {
        "id": "V-DbRcQ6DUxH",
        "colab_type": "text"
      },
      "source": [
        "First let us have a look on the Bag of Word only while considering only the **title** and **description** features."
      ]
    },
    {
      "cell_type": "code",
      "metadata": {
        "id": "oIM9SpRfCRLL",
        "colab_type": "code",
        "outputId": "671864b0-4234-404e-ea1b-22bcf245c0a3",
        "colab": {
          "base_uri": "https://localhost:8080/",
          "height": 34
        }
      },
      "source": [
        "vect1 = make_pipeline(CountVectorizer(min_df=2, max_features=2000))\n",
        "vect2 = make_pipeline(CountVectorizer(min_df=2, max_features=1000, max_df=0.95))\n",
        "\n",
        "BoW_train = sp.sparse.hstack([\n",
        "    vect1.fit_transform(X_train[\"description\"]),\n",
        "    vect2.fit_transform(X_train[\"title\"]),\n",
        "])\n",
        "\n",
        "LR = LinearRegression()\n",
        "scores = cross_val_score(LR, BoW_train, y_train)\n",
        "print(\"Score Linear Regression\", np.mean(scores))"
      ],
      "execution_count": 0,
      "outputs": [
        {
          "output_type": "stream",
          "text": [
            "Score Linear Regression 0.7142438999014576\n"
          ],
          "name": "stdout"
        }
      ]
    },
    {
      "cell_type": "markdown",
      "metadata": {
        "id": "FLeLJK-HDaxW",
        "colab_type": "text"
      },
      "source": [
        "Now let us compare to the complete model with all features"
      ]
    },
    {
      "cell_type": "code",
      "metadata": {
        "id": "4b1YHyGFCs5w",
        "colab_type": "code",
        "outputId": "589bae97-00b3-4995-c430-1341ccbe10a0",
        "colab": {
          "base_uri": "https://localhost:8080/",
          "height": 34
        }
      },
      "source": [
        "cont = [\"price\"]\n",
        "cat_TE = [\"province\", \"region_1\", \"variety\", \"winery\"]\n",
        "cat_OHE = [\"country\", \"region_2\", \"taster_name\", \"taster_twitter_handle\"]\n",
        "\n",
        "X_train[cat_OHE + cat_TE] = X_train[cat_OHE + cat_TE].fillna('missing')\n",
        "Cont_Imputer = SimpleImputer(strategy='median')\n",
        "X_train[cont] = Cont_Imputer.fit_transform(X_train[cont])\n",
        "\n",
        "tfidf1 = make_pipeline(CountVectorizer(min_df=2, max_features=2000), TfidfTransformer())\n",
        "tfidf2 = make_pipeline(CountVectorizer(min_df=2, max_features=1000, max_df=0.95), TfidfTransformer())\n",
        "tfidf3 = make_pipeline(CountVectorizer(min_df=2, max_features=1000, max_df=0.95), TfidfTransformer())\n",
        "preprocess = make_column_transformer(\n",
        "    (TargetEncoder(), cat_TE),\n",
        "    (OneHotEncoder(handle_unknown='ignore'), cat_OHE),\n",
        "    (StandardScaler(), cont)\n",
        ")\n",
        "\n",
        "train_all_feature = sp.sparse.hstack([\n",
        "    tfidf1.fit_transform(X_train[\"description\"]),\n",
        "    tfidf2.fit_transform(X_train[\"designation\"]),\n",
        "    tfidf3.fit_transform(X_train[\"title\"]),\n",
        "    preprocess.fit_transform(X_train[cont + cat_OHE + cat_TE], y_train),\n",
        "])\n",
        "\n",
        "LR = LinearRegression()\n",
        "scores = cross_val_score(LR, train_all_feature, y_train)\n",
        "print(\"Score Linear Regression\", np.mean(scores))"
      ],
      "execution_count": 0,
      "outputs": [
        {
          "output_type": "stream",
          "text": [
            "Score Linear Regression 0.7781389248802411\n"
          ],
          "name": "stdout"
        }
      ]
    },
    {
      "cell_type": "markdown",
      "metadata": {
        "id": "fcK9Gv4URDBT",
        "colab_type": "text"
      },
      "source": [
        "The Bag of Word models still yield a better score than our previous Bert model. However, there are some important caveats to take into account. The Bag-of-Words embedding model on the other hand has 4009 dimensions whereas the Bert model has 1536.\n",
        "Due to memory limits on Colab, we cannot use the third text feature : **designation**, but seeing how well Bert embedding performs without it, we should expect that a model using this feature embedded with Bert should have a comparable (if not better score) than our state of the art model which used Bag of words (score of ~77%)."
      ]
    },
    {
      "cell_type": "markdown",
      "metadata": {
        "id": "YZO04uhb2afX",
        "colab_type": "text"
      },
      "source": [
        "## **Question 3.1**\n",
        "Fine-tune a BERT model on the text data alone using the transformers library. "
      ]
    },
    {
      "cell_type": "code",
      "metadata": {
        "id": "fP4cgUw_Uv3C",
        "colab_type": "code",
        "colab": {}
      },
      "source": [
        "pip install transformers"
      ],
      "execution_count": 0,
      "outputs": []
    },
    {
      "cell_type": "code",
      "metadata": {
        "id": "HWdyh5QD2mkx",
        "colab_type": "code",
        "colab": {}
      },
      "source": [
        "from transformers import BertModel, BertTokenizer\n",
        "\n",
        "from sklearn.model_selection import cross_val_score, train_test_split\n",
        "from sklearn.linear_model import LinearRegression\n",
        "from sklearn.pipeline import make_pipeline\n"
      ],
      "execution_count": 0,
      "outputs": []
    },
    {
      "cell_type": "code",
      "metadata": {
        "id": "hXY7eLUwVAPo",
        "colab_type": "code",
        "outputId": "c1ffb9f4-1128-4767-be89-54be54a0f553",
        "colab": {
          "base_uri": "https://localhost:8080/",
          "height": 164,
          "referenced_widgets": [
            "44f58b8fc1c9441b9f8d81b961c32f2e",
            "0223e3c6ec1e4862a942f3ef655bed0d",
            "c927003ac3704a6bb484a18c698f65db",
            "1758e8b495da481ea5824c041ca6a0b8",
            "4e3b8a07c5d74d9e91eee184a2017e84",
            "f6d7823a741947eca71551ec54276da3",
            "7a7227d48d1c42c093c6c65adc760ee4",
            "5b2bfdd61fd04830bdc239a5ab452b9f",
            "781862224abf4ac19dc639099aa4ede3",
            "73e1a61cfbcf49d3befde65fc58e158d",
            "f87afd8445474637841d77305d5699bc",
            "b8d038c1b0cb432a85a04d275197267d",
            "3a6035e2a536477f9ca200db73f803c5",
            "20fcef928a1f4f529b052aaa358090ec",
            "6a1d2634e57444e8950aabc3357868d0",
            "53d9721d100d45c2a31b595f6bf5be70",
            "d0e44b5e17ba4633bbe7aaa0c05afe36",
            "a37024d3240e4f42834a5f9526061407",
            "6e390a50d5d74c72aa11cb09dee92c36",
            "d5510ec08ff34e208df709f8826f5b74",
            "4170cc311a3b4934b11bf74289f7eb19",
            "4b698588207941e19913ac5d5138da7d",
            "9cbdbbbc4ee243a79f4a0fb42135db36",
            "0d4885aa4af6456888c48cbdac869dd3"
          ]
        }
      },
      "source": [
        "tokenizer = BertTokenizer.from_pretrained('bert-base-uncased')\n",
        "model = BertModel.from_pretrained('bert-base-uncased').to('cuda')"
      ],
      "execution_count": 0,
      "outputs": [
        {
          "output_type": "display_data",
          "data": {
            "application/vnd.jupyter.widget-view+json": {
              "model_id": "44f58b8fc1c9441b9f8d81b961c32f2e",
              "version_minor": 0,
              "version_major": 2
            },
            "text/plain": [
              "HBox(children=(IntProgress(value=0, description='Downloading', max=231508, style=ProgressStyle(description_wid…"
            ]
          },
          "metadata": {
            "tags": []
          }
        },
        {
          "output_type": "stream",
          "text": [
            "\n"
          ],
          "name": "stdout"
        },
        {
          "output_type": "display_data",
          "data": {
            "application/vnd.jupyter.widget-view+json": {
              "model_id": "781862224abf4ac19dc639099aa4ede3",
              "version_minor": 0,
              "version_major": 2
            },
            "text/plain": [
              "HBox(children=(IntProgress(value=0, description='Downloading', max=361, style=ProgressStyle(description_width=…"
            ]
          },
          "metadata": {
            "tags": []
          }
        },
        {
          "output_type": "stream",
          "text": [
            "\n"
          ],
          "name": "stdout"
        },
        {
          "output_type": "display_data",
          "data": {
            "application/vnd.jupyter.widget-view+json": {
              "model_id": "d0e44b5e17ba4633bbe7aaa0c05afe36",
              "version_minor": 0,
              "version_major": 2
            },
            "text/plain": [
              "HBox(children=(IntProgress(value=0, description='Downloading', max=440473133, style=ProgressStyle(description_…"
            ]
          },
          "metadata": {
            "tags": []
          }
        },
        {
          "output_type": "stream",
          "text": [
            "\n"
          ],
          "name": "stdout"
        }
      ]
    },
    {
      "cell_type": "code",
      "metadata": {
        "id": "NqTLyp0IVAYI",
        "colab_type": "code",
        "colab": {}
      },
      "source": [
        "X, y = df.drop(columns=\"points\"),df[\"points\"]\n",
        "X_train, X_test, y_train, y_test = train_test_split(X,y)"
      ],
      "execution_count": 0,
      "outputs": []
    },
    {
      "cell_type": "markdown",
      "metadata": {
        "id": "xAnJ0ffTwXwE",
        "colab_type": "text"
      },
      "source": [
        "This dataset is too large to train BERT on, we will only select one out of every 15 points."
      ]
    },
    {
      "cell_type": "code",
      "metadata": {
        "id": "H8WQYX6zwmdX",
        "colab_type": "code",
        "outputId": "8e3c4291-18f0-4627-993f-14d8ef18e831",
        "colab": {
          "base_uri": "https://localhost:8080/",
          "height": 34
        }
      },
      "source": [
        "X_train, y_train = X_train.iloc[::15], y_train.iloc[::15]\n",
        "print(np.shape(X_train))"
      ],
      "execution_count": 0,
      "outputs": [
        {
          "output_type": "stream",
          "text": [
            "(6499, 12)\n"
          ],
          "name": "stdout"
        }
      ]
    },
    {
      "cell_type": "code",
      "metadata": {
        "id": "o-YLb_nL4F1a",
        "colab_type": "code",
        "outputId": "add75c3e-53ab-4a71-b29f-06e4ab74ac6d",
        "colab": {
          "base_uri": "https://localhost:8080/",
          "height": 136
        }
      },
      "source": [
        "MAX_SIZE = 200 #All text is less than 200 words long\n",
        "BATCH_SIZE = 32\n",
        "\n",
        "#Bert needs the special_tokens to indicate start and end of the document\n",
        "tokenized_input_description = X_train['description'].apply(lambda x: tokenizer.encode(x, add_special_tokens=True))\n",
        "tokenized_input_designation = X_train['designation'].apply(lambda x: tokenizer.encode(x, add_special_tokens=True))\n",
        "tokenized_input_title = X_train['title'].apply(lambda x: tokenizer.encode(x, add_special_tokens=True))\n",
        "\n",
        "#All inputs must be the same size, so we add zeros to the shorter inputs (zero-padding)\n",
        "padded_tokenized_input_description = np.array([i + [0]*(MAX_SIZE-len(i)) for i in tokenized_input_description.values])\n",
        "padded_tokenized_input_designation = np.array([i + [0]*(MAX_SIZE-len(i)) for i in tokenized_input_designation.values])\n",
        "padded_tokenized_input_title = np.array([i + [0]*(MAX_SIZE-len(i)) for i in tokenized_input_title.values])\n",
        "\n",
        "#We tell Bert to ignore the inputs which are equal to 0\n",
        "ignore_masks_description  = np.where(padded_tokenized_input_description != 0, 1, 0)\n",
        "ignore_masks_designation  = np.where(padded_tokenized_input_designation != 0, 1, 0)\n",
        "ignore_masks_title  = np.where(padded_tokenized_input_title != 0, 1, 0)\n",
        "\n",
        "attention_mask_description = torch.tensor(ignore_masks_description).to('cuda')\n",
        "attention_mask_designation = torch.tensor(ignore_masks_designation).to('cuda')\n",
        "attention_mask_title = torch.tensor(ignore_masks_title).to('cuda')\n",
        "\n",
        "\n",
        "#We create the tensors for each row\n",
        "input_ids_description = torch.tensor(padded_tokenized_input_description).to('cuda')\n",
        "input_ids_designation = torch.tensor(padded_tokenized_input_designation).to('cuda')\n",
        "input_ids_title = torch.tensor(padded_tokenized_input_title).to('cuda')\n",
        "padded_tokenized_input_description"
      ],
      "execution_count": 0,
      "outputs": [
        {
          "output_type": "execute_result",
          "data": {
            "text/plain": [
              "array([[  101,  3730, 25496, ...,     0,     0,     0],\n",
              "       [  101,  4086,  1998, ...,     0,     0,     0],\n",
              "       [  101, 16702,  8461, ...,     0,     0,     0],\n",
              "       ...,\n",
              "       [  101,  1037, 18783, ...,     0,     0,     0],\n",
              "       [  101,  5909,  2100, ...,     0,     0,     0],\n",
              "       [  101,  9745,  2100, ...,     0,     0,     0]])"
            ]
          },
          "metadata": {
            "tags": []
          },
          "execution_count": 15
        }
      ]
    },
    {
      "cell_type": "code",
      "metadata": {
        "id": "flQhT8ZzcySj",
        "colab_type": "code",
        "colab": {}
      },
      "source": [
        "all_train_embedding_description = []\n",
        "all_train_embedding_designation = []\n",
        "all_train_embedding_title = []\n",
        "\n",
        "with torch.no_grad():\n",
        "  for i in tqdm(range(0,len(input_ids_description),BATCH_SIZE)):    \n",
        "    last_hidden_states_description = model(input_ids_description[i:min(i+BATCH_SIZE,len(X_train))], attention_mask = attention_mask_description[i:min(i+BATCH_SIZE,len(X_train))])[0][:,0,:]\n",
        "    last_hidden_states_designation = model(input_ids_designation[i:min(i+BATCH_SIZE,len(X_train))], attention_mask = attention_mask_designation[i:min(i+BATCH_SIZE,len(X_train))])[0][:,0,:]\n",
        "    last_hidden_states_title = model(input_ids_title[i:min(i+BATCH_SIZE,len(X_train))], attention_mask = attention_mask_title[i:min(i+BATCH_SIZE,len(X_train))])[0][:,0,:]\n",
        "    all_train_embedding_description.append(last_hidden_states_description)\n",
        "    all_train_embedding_designation.append(last_hidden_states_designation)\n",
        "    all_train_embedding_title.append(last_hidden_states_title)\n",
        "\n",
        "unbatched_train_description = []\n",
        "unbatched_train_designation = []\n",
        "unbatched_train_title = []\n",
        "\n",
        "for batch_num in range(len(all_train_embedding_description)):\n",
        "  batch_description = all_train_embedding_description[batch_num]\n",
        "  batch_designation = all_train_embedding_designation[batch_num]\n",
        "  batch_title = all_train_embedding_title[batch_num]\n",
        "  \n",
        "  for seq_num in range(len(batch_description)):\n",
        "      unbatched_train_description.append(pd.Series(batch_description[seq_num]))\n",
        "      unbatched_train_designation.append(pd.Series(batch_designation[seq_num]))\n",
        "      unbatched_train_title.append(pd.Series(batch_title[seq_num]))\n",
        "\n",
        "X1_train = pd.concat([pd.DataFrame(unbatched_train_description),\n",
        "                      pd.DataFrame(unbatched_train_designation),\n",
        "                      pd.DataFrame(unbatched_train_title)],\n",
        "                     axis=1,ignore_index=True)"
      ],
      "execution_count": 0,
      "outputs": []
    },
    {
      "cell_type": "code",
      "metadata": {
        "id": "f4xsCY7yVAd1",
        "colab_type": "code",
        "colab": {}
      },
      "source": [
        "model_LR = LinearRegression()\n",
        "\n",
        "scores = cross_val_score(model_LR, X1_train, y_train)\n",
        "model_LR.fit(X1_train, y_train)\n",
        "print(\"Score Linear Regression\", np.mean(scores))"
      ],
      "execution_count": 0,
      "outputs": []
    },
    {
      "cell_type": "code",
      "metadata": {
        "id": "oomi7aYMc7yM",
        "colab_type": "code",
        "colab": {}
      },
      "source": [
        "X1_train"
      ],
      "execution_count": 0,
      "outputs": []
    },
    {
      "cell_type": "markdown",
      "metadata": {
        "id": "DqH3Npm22nWP",
        "colab_type": "text"
      },
      "source": [
        "How does this model compare to a BoW model, and how does it compare to a model using all features?  "
      ]
    },
    {
      "cell_type": "code",
      "metadata": {
        "id": "M0dBK9GT2ots",
        "colab_type": "code",
        "colab": {}
      },
      "source": [
        ""
      ],
      "execution_count": 0,
      "outputs": []
    }
  ]
}