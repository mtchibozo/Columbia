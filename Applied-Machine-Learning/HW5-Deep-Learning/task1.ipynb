{
 "cells": [
  {
   "cell_type": "markdown",
   "metadata": {
    "colab_type": "text",
    "id": "-5vqyHqLj6oI"
   },
   "source": [
    "**Applied Machine Learning - Homework 5 - Task1**\n",
    "\n",
    "\n",
    "Amaury Sudrie (UNI: AS5961)\n",
    "Maxime Tchibozo (UNI: MT3390)"
   ]
  },
  {
   "cell_type": "markdown",
   "metadata": {
    "colab_type": "text",
    "id": "MNIKxqa8kLy4"
   },
   "source": [
    "Foreword: Some of the methods used in this notebook are highly computationally and memory intensive. To run this code, we used Google Colab notebooks, and we encourage you to do the same."
   ]
  },
  {
   "cell_type": "code",
   "execution_count": 0,
   "metadata": {
    "colab": {
     "base_uri": "https://localhost:8080/",
     "height": 34
    },
    "colab_type": "code",
    "id": "D7SC6YZTj5BQ",
    "outputId": "3f6e052c-f7bc-421d-f02f-aabea8bcceaf"
   },
   "outputs": [
    {
     "name": "stderr",
     "output_type": "stream",
     "text": [
      "Using TensorFlow backend.\n"
     ]
    }
   ],
   "source": [
    "import pandas as pd\n",
    "import numpy as np\n",
    "import matplotlib.pyplot as plt\n",
    "\n",
    "from sklearn.datasets import load_digits\n",
    "from sklearn.model_selection import train_test_split, GridSearchCV\n",
    "\n",
    "import tensorflow as tf\n",
    "import keras\n",
    "from keras.models import Sequential\n",
    "from keras.layers import Dense\n",
    "from keras.regularizers import l2 as L2_reg\n",
    "from keras.wrappers.scikit_learn import KerasClassifier"
   ]
  },
  {
   "cell_type": "markdown",
   "metadata": {
    "colab_type": "text",
    "id": "LxVlsJhLt2rV"
   },
   "source": [
    "## Task 1\n",
    "\n",
    "Run a multilayer perceptron (feed forward neural network) with two hidden layers and rectified  linear nonlinearities on the digits dataset from sklearn using the keras​ Sequential interface​.  Include code for selecting L2 regularization strength and number of hidden units using GridSearchCV and evaluation on an independent test-set."
   ]
  },
  {
   "cell_type": "markdown",
   "metadata": {
    "colab_type": "text",
    "id": "PsJxg9JRHw9-"
   },
   "source": [
    "First a little preprocessing of the data"
   ]
  },
  {
   "cell_type": "code",
   "execution_count": 0,
   "metadata": {
    "colab": {},
    "colab_type": "code",
    "id": "uLETuiqioSN1"
   },
   "outputs": [],
   "source": [
    "X,y = load_digits(n_class=10, return_X_y=True)\n",
    "\n",
    "X_train, X_test, y_train, y_test = train_test_split(X,y)\n",
    "\n",
    "y_train = keras.utils.to_categorical(y_train, 10)\n",
    "y_test = keras.utils.to_categorical(y_test, 10)"
   ]
  },
  {
   "cell_type": "markdown",
   "metadata": {
    "colab_type": "text",
    "id": "BxWyViNhH0XE"
   },
   "source": [
    "Before parameter tuning using GridSearch, we want to evaluate how long it takes to train and evaluate a single model. This information will be useful to know how many values per parameter we can set in the GridSearch. After compiling, one model takes 2.7sec to train."
   ]
  },
  {
   "cell_type": "code",
   "execution_count": 0,
   "metadata": {
    "colab": {
     "base_uri": "https://localhost:8080/",
     "height": 34
    },
    "colab_type": "code",
    "id": "7KfFWWLpO68V",
    "outputId": "e4b06674-0ff6-45ef-804c-c759795509eb"
   },
   "outputs": [
    {
     "name": "stdout",
     "output_type": "stream",
     "text": [
      "time to execute: 2.741\n"
     ]
    }
   ],
   "source": [
    "import time\n",
    "t = time.time()\n",
    "\n",
    "model = Sequential()\n",
    "model.add(Dense(256, input_shape=(64,), activation='relu'))\n",
    "model.add(Dense(128, activation='relu'))\n",
    "model.add(Dense(10, activation='softmax'))\n",
    "\n",
    "model.compile(optimizer=\"adam\", loss=\"categorical_crossentropy\", metrics=['accuracy'])\n",
    "\n",
    "model.fit(X_train, y_train, batch_size=32, epochs=20, verbose=0)\n",
    "print(\"time to execute:\", round(time.time()-t,3))"
   ]
  },
  {
   "cell_type": "markdown",
   "metadata": {
    "colab_type": "text",
    "id": "AsK82XO0IK0P"
   },
   "source": [
    "For simplicity we chose the same alpha for both the kernel regularizer and for the bias regularizer."
   ]
  },
  {
   "cell_type": "code",
   "execution_count": 0,
   "metadata": {
    "colab": {},
    "colab_type": "code",
    "id": "vCamQEM9O1Bw"
   },
   "outputs": [],
   "source": [
    "def make_model(hidden_size1=128, hidden_size2=64, alpha1=0.1, alpha2=0.1):\n",
    "\n",
    "  model = Sequential()\n",
    "  model.add(Dense(hidden_size1, input_shape=(64,), activation='relu',\n",
    "                  kernel_regularizer=L2_reg(alpha1),\n",
    "                  bias_regularizer=L2_reg(alpha1)))\n",
    "  model.add(Dense(hidden_size2, activation='relu', \n",
    "                  kernel_regularizer=L2_reg(alpha2),\n",
    "                  bias_regularizer=L2_reg(alpha2)))\n",
    "  model.add(Dense(10, activation='softmax'))\n",
    "\n",
    "  model.compile(optimizer=\"adam\", loss=\"categorical_crossentropy\", metrics=['accuracy'])\n",
    "    \n",
    "  return model\n",
    "\n"
   ]
  },
  {
   "cell_type": "markdown",
   "metadata": {
    "colab_type": "text",
    "id": "Cu-loKZiIZih"
   },
   "source": [
    "Here we build a Grid Search. We will tune both the number of neurons per layer and the alpha coefficients for regularization."
   ]
  },
  {
   "cell_type": "code",
   "execution_count": 0,
   "metadata": {
    "colab": {
     "base_uri": "https://localhost:8080/",
     "height": 51
    },
    "colab_type": "code",
    "id": "4nE_g_MuSYC8",
    "outputId": "c7f28b30-abcc-4053-cde5-a30ff38b7dfe"
   },
   "outputs": [
    {
     "name": "stdout",
     "output_type": "stream",
     "text": [
      "Best mean cross-validation score for LR: 0.979\n",
      "Best parameters: {'alpha1': 0.001, 'alpha2': 0.001, 'epochs': 20, 'hidden_size1': 128, 'hidden_size2': 128, 'verbose': 0}\n"
     ]
    }
   ],
   "source": [
    "clf = KerasClassifier(make_model)\n",
    "param_grid = {'epochs': [20],\n",
    "              'verbose': [0],\n",
    "              'hidden_size1': [64, 128, 256],\n",
    "              'hidden_size2': [64, 128, 256],\n",
    "              'alpha1': [0.001, 0.01, 0.1],\n",
    "              'alpha2': [0.001, 0.01, 0.1]}\n",
    "\n",
    "grid = GridSearchCV(clf, param_grid=param_grid)\n",
    "grid.fit(X_train, y_train)\n",
    "print(\"Best mean cross-validation score for LR: {:.3f}\".format(grid.best_score_))\n",
    "print(\"Best parameters: {}\".format(grid.best_params_))"
   ]
  },
  {
   "cell_type": "markdown",
   "metadata": {
    "colab_type": "text",
    "id": "_jMSxMF_Ig7h"
   },
   "source": [
    "On the train dataset we achieved 97.9% of accuracy with 128 neurons in both hidden layers and alpha 0.001 for both regularizers."
   ]
  },
  {
   "cell_type": "code",
   "execution_count": 0,
   "metadata": {
    "colab": {
     "base_uri": "https://localhost:8080/",
     "height": 34
    },
    "colab_type": "code",
    "id": "0e6QJGIQjy5e",
    "outputId": "d3635252-5353-48cc-9e5c-c4bcf63217bb"
   },
   "outputs": [
    {
     "name": "stdout",
     "output_type": "stream",
     "text": [
      "Test Accuracy: 0.984\n"
     ]
    }
   ],
   "source": [
    "model_final = make_model(hidden_size1=grid.best_params_['hidden_size1'],\n",
    "                         hidden_size2=grid.best_params_['hidden_size2'],\n",
    "                         alpha1=grid.best_params_['alpha1'],\n",
    "                         alpha2=grid.best_params_['alpha2'])\n",
    "\n",
    "model_final.fit(X_train, y_train, batch_size=32, epochs=grid.best_params_['epochs'], verbose=0)\n",
    "score = model_final.evaluate(X_test, y_test, verbose=0)\n",
    "print(\"Test Accuracy: {:.3f}\".format(score[1]))"
   ]
  },
  {
   "cell_type": "markdown",
   "metadata": {
    "colab_type": "text",
    "id": "tuSFtdLZJFTS"
   },
   "source": [
    "With these parameters, we achieved even an even better score on the test dataset than on training with an accuracy of 98.4%."
   ]
  },
  {
   "cell_type": "code",
   "execution_count": 0,
   "metadata": {
    "colab": {},
    "colab_type": "code",
    "id": "Sg7zaVMzJri5"
   },
   "outputs": [],
   "source": []
  }
 ],
 "metadata": {
  "accelerator": "GPU",
  "colab": {
   "collapsed_sections": [],
   "name": "AML_HW5_as5961_mt3390_Task1.ipynb",
   "provenance": []
  },
  "kernelspec": {
   "display_name": "Python 3",
   "language": "python",
   "name": "python3"
  },
  "language_info": {
   "codemirror_mode": {
    "name": "ipython",
    "version": 3
   },
   "file_extension": ".py",
   "mimetype": "text/x-python",
   "name": "python",
   "nbconvert_exporter": "python",
   "pygments_lexer": "ipython3",
   "version": "3.6.5"
  }
 },
 "nbformat": 4,
 "nbformat_minor": 1
}
