{
 "cells": [
  {
   "cell_type": "markdown",
   "metadata": {
    "colab_type": "text",
    "id": "wk7YxfHTk1QO"
   },
   "source": [
    "**Applied Machine Learning - Homework 3**\n",
    "\n",
    "Amaury Sudrie (UNI: AS5961)\n",
    "Maxime Tchibozo (UNI: MT3390)"
   ]
  },
  {
   "cell_type": "code",
   "execution_count": 0,
   "metadata": {
    "colab": {},
    "colab_type": "code",
    "id": "wcs4aiFSbtIc"
   },
   "outputs": [],
   "source": [
    "from google.colab import drive\n",
    "drive.mount('/content/drive')\n",
    "\n",
    "import os\n",
    "os.chdir(\"drive/My Drive/AML/\")"
   ]
  },
  {
   "cell_type": "code",
   "execution_count": 0,
   "metadata": {
    "colab": {},
    "colab_type": "code",
    "id": "1i2Sfo9NcHTK"
   },
   "outputs": [],
   "source": [
    "import re\n",
    "\n",
    "import pandas as pd\n",
    "import numpy as np\n",
    "import matplotlib.pyplot as plt"
   ]
  },
  {
   "cell_type": "code",
   "execution_count": 0,
   "metadata": {
    "colab": {},
    "colab_type": "code",
    "id": "-kM9VyY1c0_3"
   },
   "outputs": [],
   "source": [
    "df = pd.read_csv('vehicles.csv')"
   ]
  },
  {
   "cell_type": "code",
   "execution_count": 0,
   "metadata": {
    "colab": {
     "base_uri": "https://localhost:8080/",
     "height": 513
    },
    "colab_type": "code",
    "id": "rBrd0TRJUU32",
    "outputId": "a6c8e9b4-9c44-4297-ce2d-15c241120c93"
   },
   "outputs": [
    {
     "data": {
      "text/html": [
       "<div>\n",
       "<style scoped>\n",
       "    .dataframe tbody tr th:only-of-type {\n",
       "        vertical-align: middle;\n",
       "    }\n",
       "\n",
       "    .dataframe tbody tr th {\n",
       "        vertical-align: top;\n",
       "    }\n",
       "\n",
       "    .dataframe thead th {\n",
       "        text-align: right;\n",
       "    }\n",
       "</style>\n",
       "<table border=\"1\" class=\"dataframe\">\n",
       "  <thead>\n",
       "    <tr style=\"text-align: right;\">\n",
       "      <th></th>\n",
       "      <th>id</th>\n",
       "      <th>url</th>\n",
       "      <th>region</th>\n",
       "      <th>region_url</th>\n",
       "      <th>price</th>\n",
       "      <th>year</th>\n",
       "      <th>manufacturer</th>\n",
       "      <th>model</th>\n",
       "      <th>condition</th>\n",
       "      <th>cylinders</th>\n",
       "      <th>fuel</th>\n",
       "      <th>odometer</th>\n",
       "      <th>title_status</th>\n",
       "      <th>transmission</th>\n",
       "      <th>vin</th>\n",
       "      <th>drive</th>\n",
       "      <th>size</th>\n",
       "      <th>type</th>\n",
       "      <th>paint_color</th>\n",
       "      <th>image_url</th>\n",
       "      <th>description</th>\n",
       "      <th>county</th>\n",
       "      <th>state</th>\n",
       "      <th>lat</th>\n",
       "      <th>long</th>\n",
       "    </tr>\n",
       "  </thead>\n",
       "  <tbody>\n",
       "    <tr>\n",
       "      <th>0</th>\n",
       "      <td>7034441763</td>\n",
       "      <td>https://saltlakecity.craigslist.org/cto/d/salt...</td>\n",
       "      <td>salt lake city</td>\n",
       "      <td>https://saltlakecity.craigslist.org</td>\n",
       "      <td>17899</td>\n",
       "      <td>2012.0</td>\n",
       "      <td>volkswagen</td>\n",
       "      <td>golf r</td>\n",
       "      <td>excellent</td>\n",
       "      <td>4 cylinders</td>\n",
       "      <td>gas</td>\n",
       "      <td>63500.0</td>\n",
       "      <td>clean</td>\n",
       "      <td>manual</td>\n",
       "      <td>WVWPF7AJ6CW316713</td>\n",
       "      <td>4wd</td>\n",
       "      <td>compact</td>\n",
       "      <td>hatchback</td>\n",
       "      <td>black</td>\n",
       "      <td>https://images.craigslist.org/00G0G_fTLDWM5Xyv...</td>\n",
       "      <td>PRICE REDUCED!   -Garage kept -Low Miles (63K)...</td>\n",
       "      <td>NaN</td>\n",
       "      <td>ut</td>\n",
       "      <td>40.7372</td>\n",
       "      <td>-111.858</td>\n",
       "    </tr>\n",
       "    <tr>\n",
       "      <th>1</th>\n",
       "      <td>7034440610</td>\n",
       "      <td>https://saltlakecity.craigslist.org/ctd/d/sand...</td>\n",
       "      <td>salt lake city</td>\n",
       "      <td>https://saltlakecity.craigslist.org</td>\n",
       "      <td>0</td>\n",
       "      <td>2016.0</td>\n",
       "      <td>ford</td>\n",
       "      <td>f-150</td>\n",
       "      <td>excellent</td>\n",
       "      <td>NaN</td>\n",
       "      <td>gas</td>\n",
       "      <td>10.0</td>\n",
       "      <td>clean</td>\n",
       "      <td>automatic</td>\n",
       "      <td>1FTMF1EP3GKF13544</td>\n",
       "      <td>4wd</td>\n",
       "      <td>NaN</td>\n",
       "      <td>NaN</td>\n",
       "      <td>NaN</td>\n",
       "      <td>https://images.craigslist.org/00v0v_7Cu0buIofU...</td>\n",
       "      <td>Drive it home today. Call (Or Text) us now !!C...</td>\n",
       "      <td>NaN</td>\n",
       "      <td>ut</td>\n",
       "      <td>40.5881</td>\n",
       "      <td>-111.884</td>\n",
       "    </tr>\n",
       "    <tr>\n",
       "      <th>2</th>\n",
       "      <td>7034440588</td>\n",
       "      <td>https://saltlakecity.craigslist.org/ctd/d/sand...</td>\n",
       "      <td>salt lake city</td>\n",
       "      <td>https://saltlakecity.craigslist.org</td>\n",
       "      <td>46463</td>\n",
       "      <td>2015.0</td>\n",
       "      <td>gmc</td>\n",
       "      <td>sierra 1500</td>\n",
       "      <td>excellent</td>\n",
       "      <td>NaN</td>\n",
       "      <td>gas</td>\n",
       "      <td>7554.0</td>\n",
       "      <td>clean</td>\n",
       "      <td>automatic</td>\n",
       "      <td>3GTU2WEC6FG228025</td>\n",
       "      <td>4wd</td>\n",
       "      <td>NaN</td>\n",
       "      <td>NaN</td>\n",
       "      <td>white</td>\n",
       "      <td>https://images.craigslist.org/01515_lPvJ9bfbdY...</td>\n",
       "      <td>Drive it home today. Call (Or Text) us now !!C...</td>\n",
       "      <td>NaN</td>\n",
       "      <td>ut</td>\n",
       "      <td>40.5881</td>\n",
       "      <td>-111.884</td>\n",
       "    </tr>\n",
       "    <tr>\n",
       "      <th>3</th>\n",
       "      <td>7034440546</td>\n",
       "      <td>https://saltlakecity.craigslist.org/ctd/d/sand...</td>\n",
       "      <td>salt lake city</td>\n",
       "      <td>https://saltlakecity.craigslist.org</td>\n",
       "      <td>0</td>\n",
       "      <td>2016.0</td>\n",
       "      <td>ford</td>\n",
       "      <td>f-150</td>\n",
       "      <td>excellent</td>\n",
       "      <td>NaN</td>\n",
       "      <td>gas</td>\n",
       "      <td>10.0</td>\n",
       "      <td>clean</td>\n",
       "      <td>automatic</td>\n",
       "      <td>1FTEX1EF6GKD25447</td>\n",
       "      <td>4wd</td>\n",
       "      <td>NaN</td>\n",
       "      <td>NaN</td>\n",
       "      <td>NaN</td>\n",
       "      <td>https://images.craigslist.org/00T0T_6Rjfp3NS4O...</td>\n",
       "      <td>Drive it home today. Call (Or Text) us now !!C...</td>\n",
       "      <td>NaN</td>\n",
       "      <td>ut</td>\n",
       "      <td>40.5881</td>\n",
       "      <td>-111.884</td>\n",
       "    </tr>\n",
       "    <tr>\n",
       "      <th>4</th>\n",
       "      <td>7034406932</td>\n",
       "      <td>https://saltlakecity.craigslist.org/ctd/d/evan...</td>\n",
       "      <td>salt lake city</td>\n",
       "      <td>https://saltlakecity.craigslist.org</td>\n",
       "      <td>49999</td>\n",
       "      <td>2018.0</td>\n",
       "      <td>ford</td>\n",
       "      <td>f-450</td>\n",
       "      <td>NaN</td>\n",
       "      <td>NaN</td>\n",
       "      <td>diesel</td>\n",
       "      <td>70150.0</td>\n",
       "      <td>clean</td>\n",
       "      <td>automatic</td>\n",
       "      <td>1FT8W4DT8GEA90427</td>\n",
       "      <td>4wd</td>\n",
       "      <td>NaN</td>\n",
       "      <td>pickup</td>\n",
       "      <td>white</td>\n",
       "      <td>https://images.craigslist.org/00W0W_8yIUwRBXXd...</td>\n",
       "      <td>2018 Ford F-350 F350 F 350 SD Lariat Crew Cab ...</td>\n",
       "      <td>NaN</td>\n",
       "      <td>ut</td>\n",
       "      <td>40.3744</td>\n",
       "      <td>-104.694</td>\n",
       "    </tr>\n",
       "  </tbody>\n",
       "</table>\n",
       "</div>"
      ],
      "text/plain": [
       "           id  ...     long\n",
       "0  7034441763  ... -111.858\n",
       "1  7034440610  ... -111.884\n",
       "2  7034440588  ... -111.884\n",
       "3  7034440546  ... -111.884\n",
       "4  7034406932  ... -104.694\n",
       "\n",
       "[5 rows x 25 columns]"
      ]
     },
     "execution_count": 4,
     "metadata": {
      "tags": []
     },
     "output_type": "execute_result"
    }
   ],
   "source": [
    "df.head()"
   ]
  },
  {
   "cell_type": "code",
   "execution_count": 0,
   "metadata": {
    "colab": {
     "base_uri": "https://localhost:8080/",
     "height": 34
    },
    "colab_type": "code",
    "id": "nBB7chfGdPtG",
    "outputId": "022041d4-a88f-4857-d2db-fc2e65cdc4e6"
   },
   "outputs": [
    {
     "name": "stdout",
     "output_type": "stream",
     "text": [
      "number of rows: 509577\n"
     ]
    }
   ],
   "source": [
    "nrows = len(df)\n",
    "print(\"number of rows:\", nrows)"
   ]
  },
  {
   "cell_type": "markdown",
   "metadata": {
    "colab_type": "text",
    "id": "BiG7zIE6c-Hw"
   },
   "source": [
    "# **Task 1 : Identify Features**\n",
    "\n",
    "Assemble a dataset consisting of features and target (for example in a dataframe or in two  arrays X and y). What features are relevant for the prediction task?  Are there any features that should be excluded because they leak the target information?  Show visualizations or statistics to support your selection.  You are not required to use the description column, but you can try to come up with relevant  features using it. Please don’t use bag-of-word approaches for now as we’ll discuss these later  in the class. "
   ]
  },
  {
   "cell_type": "markdown",
   "metadata": {
    "colab_type": "text",
    "id": "f8yhBYo3c8Fu"
   },
   "source": [
    "### **NA values**\n",
    "First we can have a look at the NAs repartition in the dataframe."
   ]
  },
  {
   "cell_type": "code",
   "execution_count": 0,
   "metadata": {
    "colab": {
     "base_uri": "https://localhost:8080/",
     "height": 459
    },
    "colab_type": "code",
    "id": "B8XsN9kkdFJb",
    "outputId": "0a7f0930-ac90-4b68-e136-7b92cfb75657"
   },
   "outputs": [
    {
     "data": {
      "text/plain": [
       "id                   0\n",
       "url                  0\n",
       "region               0\n",
       "region_url           0\n",
       "price                0\n",
       "year              1527\n",
       "manufacturer     22764\n",
       "model             7989\n",
       "condition       231934\n",
       "cylinders       199683\n",
       "fuel              3985\n",
       "odometer         92324\n",
       "title_status      3062\n",
       "transmission      3719\n",
       "vin             207425\n",
       "drive           144143\n",
       "size            342003\n",
       "type            141531\n",
       "paint_color     164706\n",
       "image_url           14\n",
       "description         16\n",
       "county          509577\n",
       "state                0\n",
       "lat              10292\n",
       "long             10292\n",
       "dtype: int64"
      ]
     },
     "execution_count": 6,
     "metadata": {
      "tags": []
     },
     "output_type": "execute_result"
    }
   ],
   "source": [
    "df.isnull().sum(axis = 0)"
   ]
  },
  {
   "cell_type": "markdown",
   "metadata": {
    "colab_type": "text",
    "id": "-ZPNpMA5drSE"
   },
   "source": [
    "The **county** column contains only NA, thus we can immediately drop it."
   ]
  },
  {
   "cell_type": "code",
   "execution_count": 0,
   "metadata": {
    "colab": {},
    "colab_type": "code",
    "id": "xa0JCWU6eBE5"
   },
   "outputs": [],
   "source": [
    "df = df.drop(columns=\"county\")"
   ]
  },
  {
   "cell_type": "markdown",
   "metadata": {
    "colab_type": "text",
    "id": "WBxipvCqfK_g"
   },
   "source": [
    "### **Columns that leak informations**\n",
    "\n",
    "Several columns repeat information already present in other columns. This is the case for **description** which sometimes repeats the **price**, and  **region_url** which repeat the **region** name."
   ]
  },
  {
   "cell_type": "code",
   "execution_count": 0,
   "metadata": {
    "colab": {
     "base_uri": "https://localhost:8080/",
     "height": 34
    },
    "colab_type": "code",
    "id": "8VV_r2IgfJcQ",
    "outputId": "aca88146-3dfc-4702-ad06-7d8262d1546a"
   },
   "outputs": [
    {
     "data": {
      "text/plain": [
       "'$49,999'"
      ]
     },
     "execution_count": 8,
     "metadata": {
      "tags": []
     },
     "output_type": "execute_result"
    }
   ],
   "source": [
    "df['description'].iloc[4][129:136]"
   ]
  },
  {
   "cell_type": "code",
   "execution_count": 0,
   "metadata": {
    "colab": {
     "base_uri": "https://localhost:8080/",
     "height": 34
    },
    "colab_type": "code",
    "id": "fqW-kDUFsBxa",
    "outputId": "f24d78a5-bfa8-4bf1-885f-086249cd6377"
   },
   "outputs": [
    {
     "data": {
      "text/plain": [
       "'saltlakecity'"
      ]
     },
     "execution_count": 9,
     "metadata": {
      "tags": []
     },
     "output_type": "execute_result"
    }
   ],
   "source": [
    "df['region_url'].iloc[4][8:20]"
   ]
  },
  {
   "cell_type": "code",
   "execution_count": 0,
   "metadata": {
    "colab": {},
    "colab_type": "code",
    "id": "0Kp1XQHOsb4X"
   },
   "outputs": [],
   "source": [
    "df = df.drop(columns=[\"description\", \"region_url\"])"
   ]
  },
  {
   "cell_type": "markdown",
   "metadata": {
    "colab_type": "text",
    "id": "tI541Lr7sn_l"
   },
   "source": [
    "### **Columns which contains too much unique values**"
   ]
  },
  {
   "cell_type": "code",
   "execution_count": 0,
   "metadata": {
    "colab": {
     "base_uri": "https://localhost:8080/",
     "height": 391
    },
    "colab_type": "code",
    "id": "H8P3a8rfk14b",
    "outputId": "60436ec5-cdea-4b28-b1e3-6af1a6644dbe"
   },
   "outputs": [
    {
     "name": "stdout",
     "output_type": "stream",
     "text": [
      "id 509577\n",
      "url 509577\n",
      "region 403\n",
      "price 17854\n",
      "year 115\n",
      "manufacturer 44\n",
      "model 35853\n",
      "condition 7\n",
      "cylinders 9\n",
      "fuel 6\n",
      "odometer 119874\n",
      "title_status 7\n",
      "transmission 4\n",
      "vin 180146\n",
      "drive 4\n",
      "size 5\n",
      "type 14\n",
      "paint_color 13\n",
      "image_url 349469\n",
      "state 51\n",
      "lat 51489\n",
      "long 51468\n"
     ]
    }
   ],
   "source": [
    "for key in df.keys():\n",
    "  print(key, len(df[key].unique()))"
   ]
  },
  {
   "cell_type": "markdown",
   "metadata": {
    "colab_type": "text",
    "id": "ibtp655RsyaU"
   },
   "source": [
    "We can observe that **id**, **url** and **image_url** contains more than 75% of unique values. This is not really interesting for analysis purposes. Let's drop them."
   ]
  },
  {
   "cell_type": "code",
   "execution_count": 0,
   "metadata": {
    "colab": {},
    "colab_type": "code",
    "id": "V1ZykAt2tEIU"
   },
   "outputs": [],
   "source": [
    "df = df.drop(columns=[\"id\", \"url\", \"image_url\"])"
   ]
  },
  {
   "cell_type": "markdown",
   "metadata": {
    "colab_type": "text",
    "id": "taH3uPFx4cuX"
   },
   "source": [
    "### **Data cleanining**"
   ]
  },
  {
   "cell_type": "code",
   "execution_count": 0,
   "metadata": {
    "colab": {
     "base_uri": "https://localhost:8080/",
     "height": 421
    },
    "colab_type": "code",
    "id": "nK1ENr0ltL4X",
    "outputId": "a8a96171-2576-45ce-f858-e78eb68ef413"
   },
   "outputs": [
    {
     "data": {
      "text/plain": [
       "Text(0.5, 1.0, 'Histogram of Price for the first 1000 rows')"
      ]
     },
     "execution_count": 13,
     "metadata": {
      "tags": []
     },
     "output_type": "execute_result"
    },
    {
     "data": {
      "image/png": "[encoded data removed]",
      "text/plain": [
       "<Figure size 648x432 with 1 Axes>"
      ]
     },
     "metadata": {
      "tags": []
     },
     "output_type": "display_data"
    }
   ],
   "source": [
    "plt.figure(figsize=(9,6))\n",
    "plt.hist(df['price'].iloc[0:1000],bins='auto')\n",
    "plt.xlabel('Price')\n",
    "plt.ylabel('Count')\n",
    "plt.title('Histogram of Price for the first 1000 rows')"
   ]
  },
  {
   "cell_type": "code",
   "execution_count": 0,
   "metadata": {
    "colab": {
     "base_uri": "https://localhost:8080/",
     "height": 34
    },
    "colab_type": "code",
    "id": "KiRL9-TuQwMk",
    "outputId": "f9e47b2c-0280-491b-c8d3-1e2b71e04480"
   },
   "outputs": [
    {
     "data": {
      "text/plain": [
       "3600028900"
      ]
     },
     "execution_count": 14,
     "metadata": {
      "tags": []
     },
     "output_type": "execute_result"
    }
   ],
   "source": [
    "max(df[\"price\"])"
   ]
  },
  {
   "cell_type": "markdown",
   "metadata": {
    "colab_type": "text",
    "id": "0ebBWgkIjpW0"
   },
   "source": [
    "Here we can see on the first 1000 rows that the range of prices is mainly between $0\\$ $ and $ 100,000\\$ $. Nonetheless a good propotion of the price are equal to $ 0\\$ $ and prices goes to more than 3.5 millions of dollars. These value seem too high. Thus for analyzing purpose we will keep only strictly positive prices and prices lower than $ 500,000\\$ $."
   ]
  },
  {
   "cell_type": "code",
   "execution_count": 0,
   "metadata": {
    "colab": {
     "base_uri": "https://localhost:8080/",
     "height": 34
    },
    "colab_type": "code",
    "id": "8SZFVSpuRgfq",
    "outputId": "5883d909-768c-4ad8-acb8-76617bf27213"
   },
   "outputs": [
    {
     "name": "stdout",
     "output_type": "stream",
     "text": [
      "new number of rows: 465915\n"
     ]
    }
   ],
   "source": [
    "df = df[df.price > 0]\n",
    "df = df[df.price <= 500000]\n",
    "df.reset_index(drop=True, inplace=True)\n",
    "nrows = len(df)\n",
    "print(\"new number of rows:\", nrows)"
   ]
  },
  {
   "cell_type": "markdown",
   "metadata": {
    "colab_type": "text",
    "id": "z0igbdKj4Xsz"
   },
   "source": [
    "Now the final step of cleaning is the VIN which is a unique identification number for each vehicle. Thus we will focus on non-NA VIN and correctly encoded ones."
   ]
  },
  {
   "cell_type": "code",
   "execution_count": 0,
   "metadata": {
    "colab": {
     "base_uri": "https://localhost:8080/",
     "height": 119
    },
    "colab_type": "code",
    "id": "s8VHYC38lGB_",
    "outputId": "e216aacc-293c-4ab2-92c2-54bf4771c48c"
   },
   "outputs": [
    {
     "data": {
      "text/plain": [
       "WDC0G4JB4HF164180    114\n",
       "WDDZF4JB6KA584632     88\n",
       "3AKJGLD52GSGU5247     51\n",
       "1XPBDP9X5HD363709     44\n",
       "1G1ZC5ST7GF261886     34\n",
       "Name: vin, dtype: int64"
      ]
     },
     "execution_count": 16,
     "metadata": {
      "tags": []
     },
     "output_type": "execute_result"
    }
   ],
   "source": [
    "def is_valid_vin(string):\n",
    "  string = str(string) #Handles NaN values\n",
    "  string = re.sub(r'[^\\w\\s]','',string) #Handles punctuation\n",
    "  string = string.replace(' ','') #Handles spaces\n",
    "  if len(string)==17:\n",
    "    return True\n",
    "  return False\n",
    "\n",
    "df['valid_vin'] = df['vin'].apply(lambda x : is_valid_vin(x))\n",
    "df = df[df.valid_vin == True].drop(['valid_vin'],axis=1)\n",
    "df['vin'].value_counts().head()"
   ]
  },
  {
   "cell_type": "markdown",
   "metadata": {
    "colab_type": "text",
    "id": "fJ-W5H6f5rHN"
   },
   "source": [
    "As we can see, the same car appears several times in the dataset (for example if it was listed in several different states), thus we will remove the duplicates. Once duplicates are removed, we drop this column as it does not give new information."
   ]
  },
  {
   "cell_type": "code",
   "execution_count": 0,
   "metadata": {
    "colab": {
     "base_uri": "https://localhost:8080/",
     "height": 34
    },
    "colab_type": "code",
    "id": "WzED8JyH5pBw",
    "outputId": "f49d5a35-d509-47b2-8254-272d0c85779f"
   },
   "outputs": [
    {
     "name": "stdout",
     "output_type": "stream",
     "text": [
      "new number of rows: 158801\n"
     ]
    }
   ],
   "source": [
    "df = df.drop_duplicates(subset='vin')\n",
    "df = df.drop(['vin'],axis=1)\n",
    "df.reset_index(drop=True, inplace=True)\n",
    "nrows = len(df)\n",
    "print(\"new number of rows:\", nrows)"
   ]
  },
  {
   "cell_type": "code",
   "execution_count": 0,
   "metadata": {
    "colab": {
     "base_uri": "https://localhost:8080/",
     "height": 394
    },
    "colab_type": "code",
    "id": "vaNXQGFN6jtx",
    "outputId": "e3f65553-d490-4274-f35c-483910ca773e"
   },
   "outputs": [
    {
     "data": {
      "text/html": [
       "<div>\n",
       "<style scoped>\n",
       "    .dataframe tbody tr th:only-of-type {\n",
       "        vertical-align: middle;\n",
       "    }\n",
       "\n",
       "    .dataframe tbody tr th {\n",
       "        vertical-align: top;\n",
       "    }\n",
       "\n",
       "    .dataframe thead th {\n",
       "        text-align: right;\n",
       "    }\n",
       "</style>\n",
       "<table border=\"1\" class=\"dataframe\">\n",
       "  <thead>\n",
       "    <tr style=\"text-align: right;\">\n",
       "      <th></th>\n",
       "      <th>region</th>\n",
       "      <th>price</th>\n",
       "      <th>year</th>\n",
       "      <th>manufacturer</th>\n",
       "      <th>model</th>\n",
       "      <th>condition</th>\n",
       "      <th>cylinders</th>\n",
       "      <th>fuel</th>\n",
       "      <th>odometer</th>\n",
       "      <th>title_status</th>\n",
       "      <th>transmission</th>\n",
       "      <th>drive</th>\n",
       "      <th>size</th>\n",
       "      <th>type</th>\n",
       "      <th>paint_color</th>\n",
       "      <th>state</th>\n",
       "      <th>lat</th>\n",
       "      <th>long</th>\n",
       "    </tr>\n",
       "  </thead>\n",
       "  <tbody>\n",
       "    <tr>\n",
       "      <th>0</th>\n",
       "      <td>salt lake city</td>\n",
       "      <td>17899</td>\n",
       "      <td>2012.0</td>\n",
       "      <td>volkswagen</td>\n",
       "      <td>golf r</td>\n",
       "      <td>excellent</td>\n",
       "      <td>4 cylinders</td>\n",
       "      <td>gas</td>\n",
       "      <td>63500.0</td>\n",
       "      <td>clean</td>\n",
       "      <td>manual</td>\n",
       "      <td>4wd</td>\n",
       "      <td>compact</td>\n",
       "      <td>hatchback</td>\n",
       "      <td>black</td>\n",
       "      <td>ut</td>\n",
       "      <td>40.7372</td>\n",
       "      <td>-111.858</td>\n",
       "    </tr>\n",
       "    <tr>\n",
       "      <th>1</th>\n",
       "      <td>salt lake city</td>\n",
       "      <td>46463</td>\n",
       "      <td>2015.0</td>\n",
       "      <td>gmc</td>\n",
       "      <td>sierra 1500</td>\n",
       "      <td>excellent</td>\n",
       "      <td>NaN</td>\n",
       "      <td>gas</td>\n",
       "      <td>7554.0</td>\n",
       "      <td>clean</td>\n",
       "      <td>automatic</td>\n",
       "      <td>4wd</td>\n",
       "      <td>NaN</td>\n",
       "      <td>NaN</td>\n",
       "      <td>white</td>\n",
       "      <td>ut</td>\n",
       "      <td>40.5881</td>\n",
       "      <td>-111.884</td>\n",
       "    </tr>\n",
       "    <tr>\n",
       "      <th>2</th>\n",
       "      <td>salt lake city</td>\n",
       "      <td>49999</td>\n",
       "      <td>2018.0</td>\n",
       "      <td>ford</td>\n",
       "      <td>f-450</td>\n",
       "      <td>NaN</td>\n",
       "      <td>NaN</td>\n",
       "      <td>diesel</td>\n",
       "      <td>70150.0</td>\n",
       "      <td>clean</td>\n",
       "      <td>automatic</td>\n",
       "      <td>4wd</td>\n",
       "      <td>NaN</td>\n",
       "      <td>pickup</td>\n",
       "      <td>white</td>\n",
       "      <td>ut</td>\n",
       "      <td>40.3744</td>\n",
       "      <td>-104.694</td>\n",
       "    </tr>\n",
       "    <tr>\n",
       "      <th>3</th>\n",
       "      <td>salt lake city</td>\n",
       "      <td>13999</td>\n",
       "      <td>2009.0</td>\n",
       "      <td>ram</td>\n",
       "      <td>NaN</td>\n",
       "      <td>NaN</td>\n",
       "      <td>NaN</td>\n",
       "      <td>gas</td>\n",
       "      <td>120057.0</td>\n",
       "      <td>clean</td>\n",
       "      <td>automatic</td>\n",
       "      <td>4wd</td>\n",
       "      <td>NaN</td>\n",
       "      <td>pickup</td>\n",
       "      <td>silver</td>\n",
       "      <td>ut</td>\n",
       "      <td>40.3744</td>\n",
       "      <td>-104.694</td>\n",
       "    </tr>\n",
       "    <tr>\n",
       "      <th>4</th>\n",
       "      <td>salt lake city</td>\n",
       "      <td>34500</td>\n",
       "      <td>2017.0</td>\n",
       "      <td>ford</td>\n",
       "      <td>f-350</td>\n",
       "      <td>NaN</td>\n",
       "      <td>NaN</td>\n",
       "      <td>diesel</td>\n",
       "      <td>95484.0</td>\n",
       "      <td>clean</td>\n",
       "      <td>automatic</td>\n",
       "      <td>4wd</td>\n",
       "      <td>NaN</td>\n",
       "      <td>pickup</td>\n",
       "      <td>white</td>\n",
       "      <td>ut</td>\n",
       "      <td>40.3744</td>\n",
       "      <td>-104.694</td>\n",
       "    </tr>\n",
       "  </tbody>\n",
       "</table>\n",
       "</div>"
      ],
      "text/plain": [
       "           region  price    year  ... state      lat     long\n",
       "0  salt lake city  17899  2012.0  ...    ut  40.7372 -111.858\n",
       "1  salt lake city  46463  2015.0  ...    ut  40.5881 -111.884\n",
       "2  salt lake city  49999  2018.0  ...    ut  40.3744 -104.694\n",
       "3  salt lake city  13999  2009.0  ...    ut  40.3744 -104.694\n",
       "4  salt lake city  34500  2017.0  ...    ut  40.3744 -104.694\n",
       "\n",
       "[5 rows x 18 columns]"
      ]
     },
     "execution_count": 18,
     "metadata": {
      "tags": []
     },
     "output_type": "execute_result"
    }
   ],
   "source": [
    "df.head()"
   ]
  },
  {
   "cell_type": "code",
   "execution_count": 0,
   "metadata": {
    "colab": {},
    "colab_type": "code",
    "id": "Wdc-ILb36AGI"
   },
   "outputs": [],
   "source": [
    "X,y = df.drop(['price'],axis=1),df['price']"
   ]
  },
  {
   "cell_type": "markdown",
   "metadata": {
    "colab_type": "text",
    "id": "-3IFuQgD6Nt3"
   },
   "source": [
    "# **Task 2 Preprocessing and Baseline Model**\n",
    "Create a simple minimum viable model by doing an initial selection of features, doing appropriate preprocessing and cross-validating a linear model. Feel  free to exclude features or do simplified preprocessing for this task. As mentioned before, you don’t need to validate the model on the whole dataset."
   ]
  },
  {
   "cell_type": "code",
   "execution_count": 0,
   "metadata": {
    "colab": {
     "base_uri": "https://localhost:8080/",
     "height": 292
    },
    "colab_type": "code",
    "id": "bpdXU6_jDrVN",
    "outputId": "7a84a45c-eab6-445e-eb15-0b4a76cac89e"
   },
   "outputs": [
    {
     "name": "stdout",
     "output_type": "stream",
     "text": [
      "Collecting category_encoders\n",
      "\u001b[?25l  Downloading https://files.pythonhosted.org/packages/a0/52/c54191ad3782de633ea3d6ee3bb2837bda0cf3bc97644bb6375cf14150a0/category_encoders-2.1.0-py2.py3-none-any.whl (100kB)\n",
      "\r",
      "\u001b[K     |███▎                            | 10kB 25.3MB/s eta 0:00:01\r",
      "\u001b[K     |██████▌                         | 20kB 1.7MB/s eta 0:00:01\r",
      "\u001b[K     |█████████▉                      | 30kB 2.3MB/s eta 0:00:01\r",
      "\u001b[K     |█████████████                   | 40kB 1.7MB/s eta 0:00:01\r",
      "\u001b[K     |████████████████▍               | 51kB 1.9MB/s eta 0:00:01\r",
      "\u001b[K     |███████████████████▋            | 61kB 2.2MB/s eta 0:00:01\r",
      "\u001b[K     |██████████████████████▉         | 71kB 2.1MB/s eta 0:00:01\r",
      "\u001b[K     |██████████████████████████▏     | 81kB 2.2MB/s eta 0:00:01\r",
      "\u001b[K     |█████████████████████████████▍  | 92kB 2.5MB/s eta 0:00:01\r",
      "\u001b[K     |████████████████████████████████| 102kB 2.3MB/s \n",
      "\u001b[?25hRequirement already satisfied: patsy>=0.4.1 in /usr/local/lib/python3.6/dist-packages (from category_encoders) (0.5.1)\n",
      "Requirement already satisfied: pandas>=0.21.1 in /usr/local/lib/python3.6/dist-packages (from category_encoders) (1.0.3)\n",
      "Requirement already satisfied: statsmodels>=0.6.1 in /usr/local/lib/python3.6/dist-packages (from category_encoders) (0.10.2)\n",
      "Requirement already satisfied: numpy>=1.11.3 in /usr/local/lib/python3.6/dist-packages (from category_encoders) (1.18.2)\n",
      "Requirement already satisfied: scikit-learn>=0.20.0 in /usr/local/lib/python3.6/dist-packages (from category_encoders) (0.22.2.post1)\n",
      "Requirement already satisfied: scipy>=0.19.0 in /usr/local/lib/python3.6/dist-packages (from category_encoders) (1.4.1)\n",
      "Requirement already satisfied: six in /usr/local/lib/python3.6/dist-packages (from patsy>=0.4.1->category_encoders) (1.12.0)\n",
      "Requirement already satisfied: pytz>=2017.2 in /usr/local/lib/python3.6/dist-packages (from pandas>=0.21.1->category_encoders) (2018.9)\n",
      "Requirement already satisfied: python-dateutil>=2.6.1 in /usr/local/lib/python3.6/dist-packages (from pandas>=0.21.1->category_encoders) (2.8.1)\n",
      "Requirement already satisfied: joblib>=0.11 in /usr/local/lib/python3.6/dist-packages (from scikit-learn>=0.20.0->category_encoders) (0.14.1)\n",
      "Installing collected packages: category-encoders\n",
      "Successfully installed category-encoders-2.1.0\n"
     ]
    }
   ],
   "source": [
    "!pip install category_encoders"
   ]
  },
  {
   "cell_type": "code",
   "execution_count": 0,
   "metadata": {
    "colab": {},
    "colab_type": "code",
    "id": "l7QKqxFH9WRv"
   },
   "outputs": [],
   "source": [
    "from sklearn.compose import make_column_transformer\n",
    "from sklearn.linear_model import LinearRegression\n",
    "from sklearn.pipeline import make_pipeline\n",
    "from sklearn.impute import SimpleImputer\n",
    "from sklearn.preprocessing import OneHotEncoder, StandardScaler, PolynomialFeatures\n",
    "from sklearn.model_selection import cross_val_score, train_test_split\n",
    "from sklearn.model_selection import GridSearchCV\n",
    "\n",
    "from category_encoders.target_encoder import TargetEncoder"
   ]
  },
  {
   "cell_type": "code",
   "execution_count": 0,
   "metadata": {
    "colab": {},
    "colab_type": "code",
    "id": "-fUB6WCWaV3K"
   },
   "outputs": [],
   "source": [
    "X_train, X_test, y_train, y_test = train_test_split(X, y)"
   ]
  },
  {
   "cell_type": "code",
   "execution_count": 0,
   "metadata": {
    "colab": {},
    "colab_type": "code",
    "id": "BtCsspPfsmPl"
   },
   "outputs": [],
   "source": [
    "cat = ['model']\n",
    "cont = ['year', 'odometer', 'lat', 'long']\n",
    "\n",
    "X2 = X_train[cat + cont]\n",
    "X2[cat] = X2[cat].fillna('missing').copy()\n",
    "\n",
    "Cont_Imputer = SimpleImputer(strategy='median')\n",
    "X2[cont] = Cont_Imputer.fit_transform(X2[cont]).copy()"
   ]
  },
  {
   "cell_type": "code",
   "execution_count": 0,
   "metadata": {
    "colab": {
     "base_uri": "https://localhost:8080/",
     "height": 34
    },
    "colab_type": "code",
    "id": "pvcoccN196kH",
    "outputId": "e0356f2f-41e4-4440-9aa2-ed26e1e947ab"
   },
   "outputs": [
    {
     "name": "stdout",
     "output_type": "stream",
     "text": [
      "Score Linear Regression 0.3406113316764025\n"
     ]
    }
   ],
   "source": [
    "preprocess = make_column_transformer(\n",
    "    (OneHotEncoder(handle_unknown='ignore'), cat)\n",
    ")                                     \n",
    "\n",
    "model_LR = make_pipeline(preprocess, LinearRegression())\n",
    "\n",
    "scores = cross_val_score(model_LR, X2, y_train)\n",
    "print(\"Score Linear Regression\", np.mean(scores))\n"
   ]
  },
  {
   "cell_type": "markdown",
   "metadata": {
    "colab_type": "text",
    "id": "iA5nmMz9ivJ1"
   },
   "source": [
    "A basic Linear Regression model on **model, year, odometer, lat, long** yields a score of 0.34."
   ]
  },
  {
   "cell_type": "markdown",
   "metadata": {
    "colab_type": "text",
    "id": "OzkkESXXGmhL"
   },
   "source": [
    "# **Task 3 : Feature Engineering**\n",
    "Create derived features and perform more in-depth preprocessing and data cleaning. Does this  improve your model? In particular, think about how to encode categorical variables and  whether adding interactions (for example using PolynomialFeatures or manually) might help. "
   ]
  },
  {
   "cell_type": "markdown",
   "metadata": {
    "colab_type": "text",
    "id": "KQPV01vsKHYS"
   },
   "source": [
    "First we will we will select which feature to One Hot Encode and the ones and the one to Target Encode. We will choose the latter one when there is more than 50 unique possible values."
   ]
  },
  {
   "cell_type": "code",
   "execution_count": 0,
   "metadata": {
    "colab": {
     "base_uri": "https://localhost:8080/",
     "height": 323
    },
    "colab_type": "code",
    "id": "Ax0NtEkd7sLn",
    "outputId": "67685e9d-21d4-43aa-8b16-64cd9d2eacbf"
   },
   "outputs": [
    {
     "name": "stdout",
     "output_type": "stream",
     "text": [
      "region 399\n",
      "price 14588\n",
      "year 70\n",
      "manufacturer 44\n",
      "model 19559\n",
      "condition 7\n",
      "cylinders 9\n",
      "fuel 6\n",
      "odometer 95032\n",
      "title_status 7\n",
      "transmission 4\n",
      "drive 4\n",
      "size 5\n",
      "type 14\n",
      "paint_color 13\n",
      "state 51\n",
      "lat 21702\n",
      "long 21161\n"
     ]
    }
   ],
   "source": [
    "for key in df.keys():\n",
    "  print(key, len(df[key].unique()))"
   ]
  },
  {
   "cell_type": "markdown",
   "metadata": {
    "colab_type": "text",
    "id": "qFN2BzjcdGQV"
   },
   "source": [
    "Among these categories, we wont consider the ones with more than 30\\% of missing values. Thus, in this part, we discard **condition**, **cylinders** and **size**."
   ]
  },
  {
   "cell_type": "code",
   "execution_count": 0,
   "metadata": {
    "colab": {
     "base_uri": "https://localhost:8080/",
     "height": 340
    },
    "colab_type": "code",
    "id": "7fiLvwTn9mk0",
    "outputId": "fa3be680-abc1-4312-a4f0-d05cceb55b97"
   },
   "outputs": [
    {
     "data": {
      "text/plain": [
       "region           0.000000\n",
       "price            0.000000\n",
       "year             0.409947\n",
       "manufacturer     3.071139\n",
       "model            0.673170\n",
       "condition       43.599222\n",
       "cylinders       37.196239\n",
       "fuel             1.005031\n",
       "odometer         3.405520\n",
       "title_status     0.936392\n",
       "transmission     1.044704\n",
       "drive           19.103784\n",
       "size            66.777917\n",
       "type            14.518800\n",
       "paint_color     21.539537\n",
       "state            0.000000\n",
       "lat              1.522660\n",
       "long             1.522660\n",
       "dtype: float64"
      ]
     },
     "execution_count": 26,
     "metadata": {
      "tags": []
     },
     "output_type": "execute_result"
    }
   ],
   "source": [
    "percent_missing = df.isnull().sum() * 100 / nrows\n",
    "percent_missing.rename(columns={0:'feature',1:'percentage'})"
   ]
  },
  {
   "cell_type": "code",
   "execution_count": 0,
   "metadata": {
    "colab": {},
    "colab_type": "code",
    "id": "hTJzhFTTBgtq"
   },
   "outputs": [],
   "source": [
    "cont_tot = ['year', 'odometer', 'lat', 'long']\n",
    "cat_TE_tot = ['model', 'region']\n",
    "cat_OHE_tot = ['manufacturer', 'condition', 'cylinders', 'fuel', 'title_status', 'transmission', 'drive', 'size', 'type', 'paint_color', 'state']\n",
    "\n",
    "cont = ['year', 'odometer', 'lat', 'long']\n",
    "cat_TE = ['model', 'region']\n",
    "cat_OHE = ['manufacturer', 'fuel', 'title_status', 'transmission', 'drive', 'type', 'paint_color', 'state']\n",
    "\n",
    "X3 = X_train[cont + cat_OHE + cat_TE]\n",
    "X3[cat_OHE + cat_TE] = X3[cat_OHE + cat_TE].fillna('missing')\n",
    "Cont_Imputer = SimpleImputer(strategy='median')\n",
    "X3[cont] = Cont_Imputer.fit_transform(X3[cont])\n",
    "\n",
    "X3_test = X_test[cont + cat_OHE + cat_TE]\n",
    "X3_test[cat_OHE + cat_TE] = X3_test[cat_OHE + cat_TE].fillna('missing')\n",
    "X3_test[cont] = Cont_Imputer.transform(X3_test[cont])"
   ]
  },
  {
   "cell_type": "markdown",
   "metadata": {
    "colab_type": "text",
    "id": "to5Csn0H_qWB"
   },
   "source": [
    "Using the information above we target encode the **models** and the **regions** and OneHotEncode the rest. We also add a scaler to the regression model."
   ]
  },
  {
   "cell_type": "code",
   "execution_count": 0,
   "metadata": {
    "colab": {
     "base_uri": "https://localhost:8080/",
     "height": 34
    },
    "colab_type": "code",
    "id": "7x_wNJkkU9A9",
    "outputId": "2528e911-7933-4ac3-f63e-e6cdf435c49b"
   },
   "outputs": [
    {
     "name": "stdout",
     "output_type": "stream",
     "text": [
      "Score Linear Regression 0.5513346273363797\n"
     ]
    }
   ],
   "source": [
    "preprocess = make_column_transformer(\n",
    "    (TargetEncoder(), cat_TE),\n",
    "    (OneHotEncoder(handle_unknown='ignore'), cat_OHE),\n",
    "    (StandardScaler(), cont)\n",
    ")\n",
    "\n",
    "model_LR = make_pipeline(preprocess, LinearRegression())\n",
    "\n",
    "scores = cross_val_score(model_LR, X3, y_train)\n",
    "print(\"Score Linear Regression\", np.mean(scores))"
   ]
  },
  {
   "cell_type": "markdown",
   "metadata": {
    "colab_type": "text",
    "id": "o56pwmOxAHki"
   },
   "source": [
    "This model improve from a score of 0.34 to 0.55. Let's see if we can improve it using Polynomial Features. We perform a quick grid search to see if we take degree higher than 2 or not."
   ]
  },
  {
   "cell_type": "code",
   "execution_count": 0,
   "metadata": {
    "colab": {
     "base_uri": "https://localhost:8080/",
     "height": 51
    },
    "colab_type": "code",
    "id": "53RFxc8sF_Hc",
    "outputId": "dee609c4-93d9-42d4-9f68-6a3b759314d9"
   },
   "outputs": [
    {
     "name": "stdout",
     "output_type": "stream",
     "text": [
      "Best mean cross-validation score for LR: 0.503\n",
      "Best parameters: {'polynomialfeatures__degree': 2}\n"
     ]
    }
   ],
   "source": [
    "X3_sub, _, y_sub, _ = train_test_split(X3, y_train, train_size=0.25)\n",
    "\n",
    "preprocess = make_column_transformer(\n",
    "    (TargetEncoder(), cat_TE),\n",
    "    (OneHotEncoder(handle_unknown='ignore'), cat_OHE),\n",
    "    (StandardScaler(), cont)\n",
    ")\n",
    "\n",
    "model_LR = make_pipeline(preprocess,  PolynomialFeatures(), LinearRegression())\n",
    "\n",
    "param_grid_LR = {'polynomialfeatures__degree': [1, 2, 3]}  \n",
    "\n",
    "grid_LR = GridSearchCV(model_LR, param_grid_LR, cv=5, return_train_score=True)\n",
    "grid_LR.fit(X3_sub, y_sub)\n",
    "print(\"Best mean cross-validation score for LR: {:.3f}\".format(grid_LR.best_score_))\n",
    "print(\"Best parameters: {}\".format(grid_LR.best_params_))"
   ]
  },
  {
   "cell_type": "markdown",
   "metadata": {
    "colab_type": "text",
    "id": "ApMPXz4LrJkf"
   },
   "source": [
    "Thus we take **degree = 2**"
   ]
  },
  {
   "cell_type": "code",
   "execution_count": 0,
   "metadata": {
    "colab": {
     "base_uri": "https://localhost:8080/",
     "height": 34
    },
    "colab_type": "code",
    "id": "q-bcltbcYcQq",
    "outputId": "793b2116-bbf3-4fb2-851e-f182c94fd2a8"
   },
   "outputs": [
    {
     "name": "stdout",
     "output_type": "stream",
     "text": [
      "Score Linear Regression 0.5848638879400891\n"
     ]
    }
   ],
   "source": [
    "preprocess = make_column_transformer(\n",
    "    (TargetEncoder(), cat_TE),\n",
    "    (OneHotEncoder(handle_unknown='ignore'), cat_OHE),\n",
    "    (StandardScaler(), cont)\n",
    ")                                     \n",
    "\n",
    "model_LR = make_pipeline(preprocess, PolynomialFeatures(degree=2), LinearRegression())\n",
    "\n",
    "scores = cross_val_score(model_LR, X3, y_train)\n",
    "model_LR.fit(X3, y_train)\n",
    "print(\"Score Linear Regression\", np.mean(scores))"
   ]
  },
  {
   "cell_type": "code",
   "execution_count": 0,
   "metadata": {
    "colab": {
     "base_uri": "https://localhost:8080/",
     "height": 34
    },
    "colab_type": "code",
    "id": "rHoCxw7lA1xl",
    "outputId": "c6a01a2c-0358-48e9-d424-54e344f1baa3"
   },
   "outputs": [
    {
     "name": "stdout",
     "output_type": "stream",
     "text": [
      "Score on test 0.6080754286863181\n"
     ]
    }
   ],
   "source": [
    "print(\"Score on test\", model_LR.score(X3_test,y_test))"
   ]
  },
  {
   "cell_type": "markdown",
   "metadata": {
    "colab_type": "text",
    "id": "mHj-DlkFBhP7"
   },
   "source": [
    "Polynomial Features increased the result from 0.55 to 0.58 on the training set and this new model yields a score of 0.6 on the test set."
   ]
  },
  {
   "cell_type": "markdown",
   "metadata": {
    "colab_type": "text",
    "id": "cjslyMerfkav"
   },
   "source": [
    "# **Task 4 Any model**\n",
    "\n",
    "Use any regression model we discussed (trees, forests, gradient boosting, SVM) to improve  your result. You can (and probably should) change your preprocessing and feature engineering  to be suitable for the model. You are not required to try all of these models. Tune parameters  as appropriate.  "
   ]
  },
  {
   "cell_type": "code",
   "execution_count": 0,
   "metadata": {
    "colab": {},
    "colab_type": "code",
    "id": "Cw9WgKBVebE6"
   },
   "outputs": [],
   "source": [
    "from sklearn.ensemble import GradientBoostingRegressor"
   ]
  },
  {
   "cell_type": "code",
   "execution_count": 0,
   "metadata": {
    "colab": {},
    "colab_type": "code",
    "id": "lI3Tz1-p-vV1"
   },
   "outputs": [],
   "source": [
    "X4 = X_train[cont_tot + cat_OHE_tot + cat_TE_tot]\n",
    "X4[cat_OHE_tot + cat_TE_tot] = X4[cat_OHE_tot + cat_TE_tot].fillna('missing')\n",
    "Cont_Imputer = SimpleImputer(strategy='median')\n",
    "X4[cont_tot] = Cont_Imputer.fit_transform(X4[cont_tot])\n",
    "\n",
    "X4_test = X_test[cont_tot + cat_OHE_tot + cat_TE_tot]\n",
    "X4_test[cat_OHE_tot + cat_TE_tot] = X4_test[cat_OHE_tot + cat_TE_tot].fillna('missing')\n",
    "X4_test[cont_tot] = Cont_Imputer.transform(X4_test[cont_tot])"
   ]
  },
  {
   "cell_type": "markdown",
   "metadata": {
    "colab_type": "text",
    "id": "idHtB-ioB_fW"
   },
   "source": [
    "We will first try a Gradient Boosting model and start with a grid search on the **learning rate** and the trees **max depth** to find the best model."
   ]
  },
  {
   "cell_type": "code",
   "execution_count": 0,
   "metadata": {
    "colab": {
     "base_uri": "https://localhost:8080/",
     "height": 51
    },
    "colab_type": "code",
    "id": "fyv257xhUbLC",
    "outputId": "1842009d-235d-4bbf-a793-8f68dbdd282f"
   },
   "outputs": [
    {
     "name": "stdout",
     "output_type": "stream",
     "text": [
      "Best mean cross-validation score for GB: 0.698\n",
      "Best parameters: {'gradientboostingregressor__learning_rate': 0.4, 'gradientboostingregressor__max_depth': 6}\n"
     ]
    }
   ],
   "source": [
    "X4_sub, _, y_sub, _ = train_test_split(X4,y_train, train_size=0.25)\n",
    "\n",
    "preprocess = make_column_transformer(\n",
    "    (TargetEncoder(), cat_TE_tot),\n",
    "    (OneHotEncoder(handle_unknown='ignore'), cat_OHE_tot),\n",
    "    (StandardScaler(), cont_tot)\n",
    ")\n",
    "\n",
    "model_GB = make_pipeline(preprocess, GradientBoostingRegressor())\n",
    "\n",
    "param_grid_GB = {'gradientboostingregressor__learning_rate': [0.3, 0.4, 0.5],\n",
    "                 'gradientboostingregressor__max_depth': [4, 5, 6, 7]}  \n",
    "\n",
    "grid_GB = GridSearchCV(model_GB, param_grid_GB, cv=5, return_train_score=True)\n",
    "grid_GB.fit(X4_sub, y_sub)\n",
    "print(\"Best mean cross-validation score for GB: {:.3f}\".format(grid_GB.best_score_))\n",
    "print(\"Best parameters: {}\".format(grid_GB.best_params_))\n"
   ]
  },
  {
   "cell_type": "markdown",
   "metadata": {
    "colab_type": "text",
    "id": "Y0Sl1PquFo8M"
   },
   "source": [
    "Let us now apply the coefficient found above to whole train dataset"
   ]
  },
  {
   "cell_type": "code",
   "execution_count": 0,
   "metadata": {
    "colab": {
     "base_uri": "https://localhost:8080/",
     "height": 34
    },
    "colab_type": "code",
    "id": "E_eJCeZ3xezc",
    "outputId": "cea33587-cd63-4bd7-ebc9-b79e4497750a"
   },
   "outputs": [
    {
     "name": "stdout",
     "output_type": "stream",
     "text": [
      "Score GB 0.740312314809184\n"
     ]
    }
   ],
   "source": [
    "preprocess = make_column_transformer(\n",
    "    (TargetEncoder(), cat_TE_tot),\n",
    "    (OneHotEncoder(handle_unknown='ignore'), cat_OHE_tot),\n",
    "    (StandardScaler(), cont_tot)\n",
    ")                                     \n",
    "\n",
    "model_GB = make_pipeline(preprocess, GradientBoostingRegressor(max_depth=6, learning_rate=0.4))\n",
    "\n",
    "scores = cross_val_score(model_GB, X4, y_train)\n",
    "model_GB.fit(X4, y_train)\n",
    "print(\"Score GB\", np.mean(scores))"
   ]
  },
  {
   "cell_type": "markdown",
   "metadata": {
    "colab_type": "text",
    "id": "2y7UzJITDJck"
   },
   "source": [
    "The Gradient Boosting performs well with a score of 0.74 which is very much better than the Linear Regression. Let us see if XGBoost can perform even better."
   ]
  },
  {
   "cell_type": "code",
   "execution_count": 0,
   "metadata": {
    "colab": {},
    "colab_type": "code",
    "id": "dR21yCOuML5P"
   },
   "outputs": [],
   "source": [
    "import xgboost as xgb\n",
    "from xgboost import XGBRegressor, plot_tree\n",
    "\n",
    "import warnings\n",
    "warnings.simplefilter(action='ignore', category=FutureWarning)"
   ]
  },
  {
   "cell_type": "markdown",
   "metadata": {
    "colab_type": "text",
    "id": "EDYrB3aCIiNN"
   },
   "source": [
    "First we will do a grid search on XGBoost parameters"
   ]
  },
  {
   "cell_type": "code",
   "execution_count": 0,
   "metadata": {
    "colab": {
     "base_uri": "https://localhost:8080/",
     "height": 51
    },
    "colab_type": "code",
    "id": "Ej1z9ErKggFZ",
    "outputId": "494ca095-28d0-473d-bda9-80956056bdc1"
   },
   "outputs": [
    {
     "name": "stdout",
     "output_type": "stream",
     "text": [
      "Best mean cross-validation score for XGB: 0.733\n",
      "Best parameters: {'xgbregressor__learning_rate': 0.3, 'xgbregressor__max_depth': 8}\n"
     ]
    }
   ],
   "source": [
    "X4_sub, _, y_sub, _ = train_test_split(X4,y_train, train_size=0.2)\n",
    "\n",
    "preprocess = make_column_transformer(\n",
    "    (TargetEncoder(), cat_TE_tot),\n",
    "    (OneHotEncoder(handle_unknown='ignore'), cat_OHE_tot),\n",
    "    (StandardScaler(), cont_tot)\n",
    ")\n",
    "\n",
    "model_GB = make_pipeline(preprocess, XGBRegressor(silent=True))\n",
    "\n",
    "param_grid_GB = {'xgbregressor__learning_rate': [0.3, 0.4, 0.5],\n",
    "                 'xgbregressor__max_depth': [6, 7, 8, 9]}\n",
    "\n",
    "grid_GB = GridSearchCV(model_GB, param_grid_GB, cv=5, return_train_score=True)\n",
    "grid_GB.fit(X4_sub, y_sub)\n",
    "print(\"Best mean cross-validation score for XGB: {:.3f}\".format(grid_GB.best_score_))\n",
    "print(\"Best parameters: {}\".format(grid_GB.best_params_))\n"
   ]
  },
  {
   "cell_type": "markdown",
   "metadata": {
    "colab_type": "text",
    "id": "0TMljXLerQ5O"
   },
   "source": [
    "The grid search suggests to take a **max_depth** equal to 8 with a **learning rate** equal to 0.3"
   ]
  },
  {
   "cell_type": "code",
   "execution_count": 0,
   "metadata": {
    "colab": {
     "base_uri": "https://localhost:8080/",
     "height": 34
    },
    "colab_type": "code",
    "id": "TM0Fbea4MsGB",
    "outputId": "c9524c0d-97ef-4bfd-d6bf-2611d6714dd1"
   },
   "outputs": [
    {
     "name": "stdout",
     "output_type": "stream",
     "text": [
      "Score XGB 0.776259745354054\n"
     ]
    }
   ],
   "source": [
    "preprocess = make_column_transformer(\n",
    "    (TargetEncoder(), cat_TE_tot),\n",
    "    (OneHotEncoder(handle_unknown='ignore'), cat_OHE_tot),\n",
    "    (StandardScaler(), cont_tot)\n",
    ")\n",
    "\n",
    "model_XGB = make_pipeline(preprocess, XGBRegressor(n_estimators=200, max_depth=8, learning_rate=0.3, silent=True))\n",
    "\n",
    "scores = cross_val_score(model_XGB, X4, y_train)\n",
    "print(\"Score XGB\", np.mean(scores))"
   ]
  },
  {
   "cell_type": "code",
   "execution_count": 0,
   "metadata": {
    "colab": {
     "base_uri": "https://localhost:8080/",
     "height": 34
    },
    "colab_type": "code",
    "id": "bx7FaCFDDAA-",
    "outputId": "e9c0c013-fba0-4525-9127-9ef305ba5465"
   },
   "outputs": [
    {
     "name": "stdout",
     "output_type": "stream",
     "text": [
      "Score on test 0.7908734681614\n"
     ]
    }
   ],
   "source": [
    "model_XGB.fit(X4, y_train)\n",
    "print(\"Score on test\", model_XGB.score(X4_test,y_test))"
   ]
  },
  {
   "cell_type": "markdown",
   "metadata": {
    "colab_type": "text",
    "id": "EprSkZ64IxsD"
   },
   "source": [
    "In conclusion, XGBoost yields our best model, with a score of almost 0.78 on the training dataset and 0.79 on the test dataset."
   ]
  },
  {
   "cell_type": "markdown",
   "metadata": {
    "colab_type": "text",
    "id": "jdzoXV7cBYL7"
   },
   "source": [
    "# **Task 5 Feature Selections**\n",
    "Identify features that are important for your best model. Which features are most influential, and which features could be removed without decrease in performance? Does removing irrelevant features make your model better? (This will be discussed in the lecture on 03/04).\n"
   ]
  },
  {
   "cell_type": "markdown",
   "metadata": {
    "colab_type": "text",
    "id": "gxk6kRtVMX4H"
   },
   "source": [
    "We can first have a quick look at the continuous features using f_regression. We can see that both **lat** and **long** have small f-score thus these features will not be very interesting for analysis purposes."
   ]
  },
  {
   "cell_type": "code",
   "execution_count": 0,
   "metadata": {
    "colab": {
     "base_uri": "https://localhost:8080/",
     "height": 34
    },
    "colab_type": "code",
    "id": "Abr13twijh25",
    "outputId": "f67f359c-2db2-477b-e92d-83eb537b05fb"
   },
   "outputs": [
    {
     "data": {
      "text/plain": [
       "array([35829.0465505 , 12640.12175868,   224.22068378,  2418.9135207 ])"
      ]
     },
     "execution_count": 43,
     "metadata": {
      "tags": []
     },
     "output_type": "execute_result"
    }
   ],
   "source": [
    "from sklearn.feature_selection import f_regression\n",
    "\n",
    "f_values, p_values = f_regression(X4[cont], y_train)\n",
    "f_values"
   ]
  },
  {
   "cell_type": "markdown",
   "metadata": {
    "colab_type": "text",
    "id": "YtiBx301c2-i"
   },
   "source": [
    "Let us now have a look on the permutation importance to learn more information on how important each feature is. Here we will focus on each feature globally, i.e. before its preprocessing. Specifically, we aim to get macro-information on categorical features before digging in with feature importance."
   ]
  },
  {
   "cell_type": "code",
   "execution_count": 0,
   "metadata": {
    "colab": {},
    "colab_type": "code",
    "id": "5ubNZKZUzzhd"
   },
   "outputs": [],
   "source": [
    "OHE_name = model_XGB.named_steps['columntransformer'].transformers_[1][1].categories_\n",
    "\n",
    "XGB_labels = ['year', 'odometer', 'lat', 'long']\n",
    "for i in range(len(cat_OHE_tot)):\n",
    "  XGB_labels += [ cat_OHE_tot[i] + '_' + OHE_name[i][k] for k in range(len(OHE_name[i])) ]\n",
    "\n",
    "XGB_labels += cat_TE_tot"
   ]
  },
  {
   "cell_type": "code",
   "execution_count": 0,
   "metadata": {
    "colab": {
     "base_uri": "https://localhost:8080/",
     "height": 306
    },
    "colab_type": "code",
    "id": "SidTuoMecvzr",
    "outputId": "5ad629c6-bfde-4195-aa28-e0988d0bf07a"
   },
   "outputs": [
    {
     "data": {
      "text/plain": [
       "[('year', 0.4921699022299695),\n",
       " ('model', 0.272153886687179),\n",
       " ('odometer', 0.21400045790094765),\n",
       " ('manufacturer', 0.09259029621860804),\n",
       " ('cylinders', 0.07352823684351688),\n",
       " ('fuel', 0.05977920538115529),\n",
       " ('drive', 0.04658700986565201),\n",
       " ('long', 0.04234814834582101),\n",
       " ('lat', 0.03921575890536137),\n",
       " ('state', 0.03608611500509418),\n",
       " ('type', 0.03233614579703674),\n",
       " ('condition', 0.01531946131605264),\n",
       " ('region', 0.013479645663455098),\n",
       " ('title_status', 0.009892037544221566),\n",
       " ('transmission', 0.0033034528513965046),\n",
       " ('size', 0.0027006664007149794),\n",
       " ('paint_color', 0.0019008295508678775)]"
      ]
     },
     "execution_count": 147,
     "metadata": {
      "tags": []
     },
     "output_type": "execute_result"
    }
   ],
   "source": [
    "perm_imp = permutation_importance(model_XGB, X4_test, y_test)['importances_mean']\n",
    "cols = X4.columns.to_list()\n",
    "imp = []\n",
    "for i in range(len(cols)):\n",
    "  imp.append((cols[i], perm_imp[i]))\n",
    "\n",
    "imp.sort(key = lambda x : -x[1])\n",
    "imp"
   ]
  },
  {
   "cell_type": "markdown",
   "metadata": {
    "colab_type": "text",
    "id": "BM9mWYxZlsKP"
   },
   "source": [
    "From the permutation importance process we can see that **year**, **model** and **odometer** are the most important features."
   ]
  },
  {
   "cell_type": "code",
   "execution_count": 0,
   "metadata": {
    "colab": {
     "base_uri": "https://localhost:8080/",
     "height": 530
    },
    "colab_type": "code",
    "id": "y6-4K38k-DDw",
    "outputId": "31890e27-a4d4-4286-c681-83fb7ba498c7"
   },
   "outputs": [
    {
     "data": {
      "text/plain": [
       "<matplotlib.axes._subplots.AxesSubplot at 0x7f60869a4390>"
      ]
     },
     "execution_count": 136,
     "metadata": {
      "tags": []
     },
     "output_type": "execute_result"
    },
    {
     "data": {
      "image/png": "[encoded data removed]",
      "text/plain": [
       "<Figure size 1152x576 with 1 Axes>"
      ]
     },
     "metadata": {
      "tags": []
     },
     "output_type": "display_data"
    }
   ],
   "source": [
    "fig, ax = plt.subplots(figsize=(16,8))\n",
    "model_XGB.named_steps[\"xgbregressor\"].get_booster().feature_names = XGB_labels\n",
    "xgb.plot_importance(model_XGB.named_steps[\"xgbregressor\"], max_num_features=20, importance_type ='weight', ax=ax)"
   ]
  },
  {
   "cell_type": "markdown",
   "metadata": {
    "colab_type": "text",
    "id": "UOtWk4B0Zo-M"
   },
   "source": [
    "From the Feature Importance graph we can see that **year**, **state**, **odometer**, **model** and **region** have a high f-score thus these features could be considered as important."
   ]
  },
  {
   "cell_type": "code",
   "execution_count": 0,
   "metadata": {
    "colab": {
     "base_uri": "https://localhost:8080/",
     "height": 530
    },
    "colab_type": "code",
    "id": "5VpR5QdCZIE6",
    "outputId": "6f1cadc6-7f4e-41af-ca10-7292887e25e5"
   },
   "outputs": [
    {
     "data": {
      "text/plain": [
       "<matplotlib.axes._subplots.AxesSubplot at 0x7f6052913b38>"
      ]
     },
     "execution_count": 137,
     "metadata": {
      "tags": []
     },
     "output_type": "execute_result"
    },
    {
     "data": {
      "image/png": "[encoded data removed]",
      "text/plain": [
       "<Figure size 1152x576 with 1 Axes>"
      ]
     },
     "metadata": {
      "tags": []
     },
     "output_type": "display_data"
    }
   ],
   "source": [
    "fig, ax = plt.subplots(figsize=(16,8))\n",
    "model_XGB.named_steps[\"xgbregressor\"].get_booster().feature_names = XGB_labels\n",
    "xgb.plot_importance(model_XGB.named_steps[\"xgbregressor\"], max_num_features=15, importance_type ='gain', ax=ax)"
   ]
  },
  {
   "cell_type": "markdown",
   "metadata": {
    "colab_type": "text",
    "id": "jrYXs1IhcddT"
   },
   "source": [
    "From the Split Gain graph we can see that **manufacturer**, **condition**, **state** and **cylinder** could add good information while splitting the tree."
   ]
  },
  {
   "cell_type": "markdown",
   "metadata": {
    "colab_type": "text",
    "id": "kxNBRxI8nE8d"
   },
   "source": [
    "Let us see what happens to our model while reducing the number of feature to what we mentioned above."
   ]
  },
  {
   "cell_type": "code",
   "execution_count": 0,
   "metadata": {
    "colab": {},
    "colab_type": "code",
    "id": "fO663MXWnCyp"
   },
   "outputs": [],
   "source": [
    "cont5 = ['year', 'odometer']\n",
    "cat_TE5 = ['model', 'region']\n",
    "cat_OHE5 = ['manufacturer', 'condition', 'cylinders', 'state']\n",
    "\n",
    "\n",
    "X5 = X_train[cont5 + cat_OHE5 + cat_TE5]\n",
    "X5[cat_OHE5 + cat_TE5] = X5[cat_OHE5 + cat_TE5].fillna('missing')\n",
    "Cont_Imputer = SimpleImputer(strategy='median')\n",
    "X5[cont5] = Cont_Imputer.fit_transform(X5[cont5])\n",
    "\n",
    "X5_test = X_test[cont5 + cat_OHE5 + cat_TE5]\n",
    "X5_test[cat_OHE5 + cat_TE5] = X5_test[cat_OHE5 + cat_TE5].fillna('missing')\n",
    "X5_test[cont5] = Cont_Imputer.transform(X5_test[cont5])"
   ]
  },
  {
   "cell_type": "code",
   "execution_count": 0,
   "metadata": {
    "colab": {
     "base_uri": "https://localhost:8080/",
     "height": 51
    },
    "colab_type": "code",
    "id": "CnP9eX6T6-zf",
    "outputId": "72097cf6-2ba1-428c-d7ea-25fbe9cb6af2"
   },
   "outputs": [
    {
     "name": "stdout",
     "output_type": "stream",
     "text": [
      "Score XGB 0.711926487199909\n",
      "Score on test 0.7329463664564797\n"
     ]
    }
   ],
   "source": [
    "preprocess = make_column_transformer(\n",
    "    (TargetEncoder(), cat_TE5),\n",
    "    (OneHotEncoder(handle_unknown='ignore'), cat_OHE5),\n",
    "    (StandardScaler(), cont5)\n",
    ")                        \n",
    "\n",
    "model_XGB5 = make_pipeline(preprocess, XGBRegressor(n_estimators=200, max_depth=8, learning_rate=0.3, silent=True))\n",
    "\n",
    "scores = cross_val_score(model_XGB5, X5, y_train)\n",
    "model_XGB5.fit(X5, y_train)\n",
    "print(\"Score XGB\", np.mean(scores))\n",
    "print(\"Score on test\", model_XGB5.score(X5_test,y_test))"
   ]
  },
  {
   "cell_type": "markdown",
   "metadata": {
    "colab_type": "text",
    "id": "DONjdyelogMZ"
   },
   "source": [
    "Finally, keeping all features gave a better performance. Nonetheless we can see that we decreased from 0.77 to 0.71 by dividing the number of feature by 2. In other words the features we kept are the one which are essential."
   ]
  },
  {
   "cell_type": "markdown",
   "metadata": {
    "colab_type": "text",
    "id": "ynHMVSvWpK87"
   },
   "source": [
    "Let us see how the SelectFromModel perform compared to what we have done."
   ]
  },
  {
   "cell_type": "code",
   "execution_count": 0,
   "metadata": {
    "colab": {},
    "colab_type": "code",
    "id": "IankRzNIf75z"
   },
   "outputs": [],
   "source": [
    "from sklearn.feature_selection import SelectFromModel"
   ]
  },
  {
   "cell_type": "code",
   "execution_count": 0,
   "metadata": {
    "colab": {
     "base_uri": "https://localhost:8080/",
     "height": 34
    },
    "colab_type": "code",
    "id": "mJCQ0Ui9Xpvs",
    "outputId": "c659c857-6453-4871-fe76-a9841e10b67a"
   },
   "outputs": [
    {
     "name": "stdout",
     "output_type": "stream",
     "text": [
      "Score XGB 0.7280759084285066\n"
     ]
    }
   ],
   "source": [
    "preprocess = make_column_transformer(\n",
    "    (TargetEncoder(), cat_TE_tot),\n",
    "    (OneHotEncoder(handle_unknown='ignore'), cat_OHE_tot),\n",
    "    (StandardScaler(), cont_tot)\n",
    ")\n",
    "\n",
    "select_XGB = make_pipeline(\n",
    "    preprocess,\n",
    "    SelectFromModel(XGBRegressor(n_estimators=200, max_depth=8, learning_rate=0.3, silent=True)),\n",
    "    XGBRegressor(n_estimators=200, max_depth=8, learning_rate=0.3, silent=True)\n",
    ")\n",
    "\n",
    "scores = cross_val_score(select_XGB, X4, y_train)\n",
    "print(\"Score XGB\", np.mean(scores))"
   ]
  },
  {
   "cell_type": "markdown",
   "metadata": {
    "colab_type": "text",
    "id": "MGiirQzwpWcu"
   },
   "source": [
    "The selector is slightly better. In other words, the work we have done manually is as good as the SelectFromModel."
   ]
  },
  {
   "cell_type": "markdown",
   "metadata": {
    "colab_type": "text",
    "id": "Y8GNB1uQB5Jq"
   },
   "source": [
    "# **Task 6 An explainable model**\n",
    "Can you create an “explainable” model that is nearly as good as your best model? An explainable model should be small enough to be easily inspected - say a linear model with few enough coefficients that you can reasonably look at all of them, or a tree with a small number of leaves etc."
   ]
  },
  {
   "cell_type": "code",
   "execution_count": 0,
   "metadata": {
    "colab": {},
    "colab_type": "code",
    "id": "Md_LkzZ9sSF1"
   },
   "outputs": [],
   "source": [
    "from sklearn.tree import DecisionTreeRegressor, plot_tree"
   ]
  },
  {
   "cell_type": "code",
   "execution_count": 0,
   "metadata": {
    "colab": {},
    "colab_type": "code",
    "id": "0424AnXnDISW"
   },
   "outputs": [],
   "source": [
    "cont6 = ['year', 'odometer']\n",
    "cat6 = ['model', 'state', 'cylinders','manufacturer']\n",
    "\n",
    "X6 = X_train[cont6 + cat6]\n",
    "X6[cat6] = X6[cat6].fillna('missing')\n",
    "\n",
    "Cont_Imputer = SimpleImputer(strategy='median')\n",
    "X6[cont6] = Cont_Imputer.fit_transform(X6[cont6])"
   ]
  },
  {
   "cell_type": "code",
   "execution_count": 0,
   "metadata": {
    "colab": {
     "base_uri": "https://localhost:8080/",
     "height": 36
    },
    "colab_type": "code",
    "id": "d7I5hjPXszN8",
    "outputId": "9da2477b-16fd-4c93-d1b8-9c27531f98e4"
   },
   "outputs": [
    {
     "name": "stdout",
     "output_type": "stream",
     "text": [
      "Score simple model 0.506415187579637\n"
     ]
    }
   ],
   "source": [
    "preprocess = make_column_transformer(\n",
    "    (TargetEncoder(), cat6),\n",
    "    (StandardScaler(), cont6)\n",
    ")\n",
    "\n",
    "model_simple = make_pipeline(preprocess,\n",
    "                             PolynomialFeatures(degree=2,interaction_only=True),\n",
    "                             DecisionTreeRegressor(max_leaf_nodes=20, max_depth=4, criterion=\"mse\")\n",
    "                             )\n",
    "\n",
    "scores = cross_val_score(model_simple, X6, y_train)\n",
    "model_simple.fit(X6, y_train)\n",
    "print(\"Score simple model\", np.mean(scores))"
   ]
  },
  {
   "cell_type": "code",
   "execution_count": 0,
   "metadata": {
    "colab": {
     "base_uri": "https://localhost:8080/",
     "height": 1000
    },
    "colab_type": "code",
    "id": "dgp192YNuJAG",
    "outputId": "20dd03fa-e7a1-4ab5-a05a-a67f36717d2b"
   },
   "outputs": [
    {
     "data": {
      "image/png": "[encoded data removed]",
      "text/plain": [
       "<Figure size 2160x1440 with 1 Axes>"
      ]
     },
     "metadata": {
      "tags": []
     },
     "output_type": "display_data"
    }
   ],
   "source": [
    "fig, ax = plt.subplots(figsize=(30,20))\n",
    "plot_tree(model_simple.named_steps[\"decisiontreeregressor\"], fontsize=8, feature_names=model_simple.named_steps['polynomialfeatures'].get_feature_names(X6.columns))\n",
    "plt.show()"
   ]
  },
  {
   "cell_type": "markdown",
   "metadata": {
    "colab_type": "text",
    "id": "wi2NL4YQ-y8E"
   },
   "source": [
    "The Decision Tree Regressor has a score of 0.51 while containing at most 20 nodes. The tree plot allows us to interpret the model directly: the first split (for depth=0) is done according to column 'year cylinders', the two following splits (for depth=1) are done according to the 'year state' and 'year model' columns. This already shows that the interaction between the year feature and other categorical features contains much information on the price of the car."
   ]
  },
  {
   "cell_type": "code",
   "execution_count": 0,
   "metadata": {
    "colab": {
     "base_uri": "https://localhost:8080/",
     "height": 92
    },
    "colab_type": "code",
    "id": "N8Dyqk_I0qei",
    "outputId": "b038defc-ba4a-4ef8-e2a6-3ae674507fa9"
   },
   "outputs": [
    {
     "name": "stdout",
     "output_type": "stream",
     "text": [
      "[0.         0.01638884 0.         0.         0.         0.\n",
      " 0.         0.01291085 0.12133928 0.14429298 0.58542442 0.06209405\n",
      " 0.         0.         0.         0.         0.         0.01212773\n",
      " 0.         0.03765978 0.         0.00776207]\n"
     ]
    }
   ],
   "source": [
    "importances = model_simple.named_steps[\"decisiontreeregressor\"].feature_importances_\n",
    "print(importances)"
   ]
  },
  {
   "cell_type": "code",
   "execution_count": 0,
   "metadata": {
    "colab": {
     "base_uri": "https://localhost:8080/",
     "height": 56
    },
    "colab_type": "code",
    "id": "nU7yE-V14igQ",
    "outputId": "629c659c-2595-4135-e48c-649711feba42"
   },
   "outputs": [
    {
     "name": "stdout",
     "output_type": "stream",
     "text": [
      "['1', 'year', 'odometer', 'model', 'state', 'cylinders', 'manufacturer', 'year odometer', 'year model', 'year state', 'year cylinders', 'year manufacturer', 'odometer model', 'odometer state', 'odometer cylinders', 'odometer manufacturer', 'model state', 'model cylinders', 'model manufacturer', 'state cylinders', 'state manufacturer', 'cylinders manufacturer']\n"
     ]
    }
   ],
   "source": [
    "labels = model_simple.named_steps['polynomialfeatures'].get_feature_names(X6.columns)\n",
    "print(labels)"
   ]
  },
  {
   "cell_type": "code",
   "execution_count": 0,
   "metadata": {
    "colab": {},
    "colab_type": "code",
    "id": "5L-s62mV7VCs"
   },
   "outputs": [],
   "source": [
    "importance_tuples = []\n",
    "for i in range(len(importances)):\n",
    "  importance_tuples.append((labels[i],importances[i]))\n",
    "importance_tuples = sorted(importance_tuples, key=lambda x: x[1])\n",
    "labels_sorted = [x[0] for x in importance_tuples]\n",
    "importances_sorted = [x[1] for x in importance_tuples]"
   ]
  },
  {
   "cell_type": "code",
   "execution_count": 0,
   "metadata": {
    "colab": {
     "base_uri": "https://localhost:8080/",
     "height": 513
    },
    "colab_type": "code",
    "id": "Y8pzgJ3g5wBb",
    "outputId": "1eb5d364-feaf-4dc0-ee40-0f4f447bd420"
   },
   "outputs": [
    {
     "data": {
      "image/png": "[encoded data removed]",
      "text/plain": [
       "<Figure size 1152x576 with 1 Axes>"
      ]
     },
     "metadata": {
      "tags": []
     },
     "output_type": "display_data"
    }
   ],
   "source": [
    "plt.figure(figsize=(16,8))\n",
    "plt.scatter(importances_sorted,[i for i in range(len(importances))])\n",
    "plt.yticks([i for i in range(len(importances))], labels_sorted)\n",
    "plt.title('Feature Importance (metric = Mean Square Error)')\n",
    "plt.xlabel('Feature Importance')\n",
    "plt.ylabel('Feature')\n",
    "plt.show()"
   ]
  },
  {
   "cell_type": "markdown",
   "metadata": {
    "colab_type": "text",
    "id": "SWojsriXDY65"
   },
   "source": [
    "As suggested above, the interaction between 'year' and other features is key in determining the price of the car: six of the seven most important features contain information on year. These features were obtained by applying PolynomialFeatures with degree 2 to the original dataset features.\n",
    "\n",
    "Intuitively, it makes sense that the interaction of year with other components should be important. The value of a car depreciates strongly over time, and the age of a car affects each model differently. Cars with different types of cylinders, models or manufacturers will lose value differently. \n",
    "\n",
    "It is worth noting that this model gives much importance to the interaction features and almost none to the individual features (feature_importance=0 for manufacturer, state, model, odometer). We could explain this by considering that the interaction features already contain most of the information of each feature, meaning splitting according to the individual feature will not add much new information.\n",
    "\n",
    "Finally, we can note that cylinders, a feature that on its own was not very important in our previous analyses, becomes important to the model once it is put in interaction with other features (year, model and manufacturer).\n"
   ]
  },
  {
   "cell_type": "code",
   "execution_count": 0,
   "metadata": {
    "colab": {},
    "colab_type": "code",
    "id": "0D2SsEJsgdRv"
   },
   "outputs": [],
   "source": []
  }
 ],
 "metadata": {
  "accelerator": "GPU",
  "colab": {
   "collapsed_sections": [],
   "machine_shape": "hm",
   "name": "AML_HW3_as5961_mt3340.ipynb",
   "provenance": []
  },
  "kernelspec": {
   "display_name": "Python 3",
   "language": "python",
   "name": "python3"
  },
  "language_info": {
   "codemirror_mode": {
    "name": "ipython",
    "version": 3
   },
   "file_extension": ".py",
   "mimetype": "text/x-python",
   "name": "python",
   "nbconvert_exporter": "python",
   "pygments_lexer": "ipython3",
   "version": "3.6.5"
  }
 },
 "nbformat": 4,
 "nbformat_minor": 1
}
