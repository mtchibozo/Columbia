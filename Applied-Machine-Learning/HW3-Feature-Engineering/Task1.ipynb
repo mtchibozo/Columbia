{
 "cells": [
  {
   "cell_type": "markdown",
   "metadata": {},
   "source": [
    "# Applied Machine Learning \n",
    "# HW2 :Task 1"
   ]
  },
  {
   "cell_type": "markdown",
   "metadata": {},
   "source": [
    "Maxime TCHIBOZO (mt3390)"
   ]
  },
  {
   "cell_type": "markdown",
   "metadata": {},
   "source": [
    "Disclaimer : For a reason I have not been able to identify, the pipelines I created in this task tended to generate ConvergenceWarnings. I have opted to ignore these warnings as the results output by the functions were good."
   ]
  },
  {
   "cell_type": "code",
   "execution_count": 1,
   "metadata": {},
   "outputs": [],
   "source": [
    "import pandas as pd\n",
    "import matplotlib.pyplot as plt\n",
    "import numpy as np\n",
    "from numpy.random import RandomState\n",
    "from sklearn.datasets import fetch_openml\n",
    "from sklearn.model_selection import train_test_split, GridSearchCV, KFold\n",
    "from sklearn.preprocessing import OneHotEncoder, StandardScaler\n",
    "from sklearn.linear_model import LogisticRegression, Ridge\n",
    "from sklearn.compose import make_column_transformer\n",
    "from sklearn.pipeline import make_pipeline, Pipeline\n",
    "from sklearn.model_selection import cross_val_score\n",
    "from sklearn.svm import LinearSVC\n",
    "from sklearn.neighbors import KNeighborsClassifier\n",
    "\n",
    "import warnings"
   ]
  },
  {
   "cell_type": "code",
   "execution_count": 2,
   "metadata": {},
   "outputs": [],
   "source": [
    "#collect the dataset\n",
    "credit_g_dict = fetch_openml(\"credit-g\")"
   ]
  },
  {
   "cell_type": "markdown",
   "metadata": {},
   "source": [
    "# 1.1 Categorical Features vs. Continuous Features"
   ]
  },
  {
   "cell_type": "code",
   "execution_count": 4,
   "metadata": {},
   "outputs": [
    {
     "name": "stdout",
     "output_type": "stream",
     "text": [
      "['checking_status', 'duration', 'credit_history', 'purpose', 'credit_amount', 'savings_status', 'employment', 'installment_commitment', 'personal_status', 'other_parties', 'residence_since', 'property_magnitude', 'age', 'other_payment_plans', 'housing', 'existing_credits', 'job', 'num_dependents', 'own_telephone', 'foreign_worker']\n"
     ]
    }
   ],
   "source": [
    "print(credit_g_dict.feature_names)"
   ]
  },
  {
   "cell_type": "markdown",
   "metadata": {},
   "source": [
    "In total, we have 20 features (excluding the target). Some of the categorical features are detailed by the \"categories\" key of the credit_g dictionary. Upon further analysis, we observe that there are additional categorical variables : installment_commitment, residence_since ,existing_credits ,num_dependents."
   ]
  },
  {
   "cell_type": "code",
   "execution_count": 5,
   "metadata": {},
   "outputs": [
    {
     "name": "stdout",
     "output_type": "stream",
     "text": [
      "The Categorical Features are : ['checking_status', 'credit_history', 'purpose', 'savings_status', 'employment', 'personal_status', 'other_parties', 'property_magnitude', 'other_payment_plans', 'housing', 'job', 'own_telephone', 'foreign_worker', 'installment_commitment', 'residence_since', 'existing_credits', 'num_dependents']\n"
     ]
    }
   ],
   "source": [
    "print(\"The Categorical Features are : \"+str(list(credit_g_dict[\"categories\"].keys())+[\"installment_commitment\", \"residence_since\" ,\"existing_credits\" ,\"num_dependents\"]))"
   ]
  },
  {
   "cell_type": "markdown",
   "metadata": {},
   "source": [
    "We can consider that the following features are continuous : duration, credit_amount and age"
   ]
  },
  {
   "cell_type": "markdown",
   "metadata": {},
   "source": [
    "## 1.2 Distributions of Continuous Features and Target"
   ]
  },
  {
   "cell_type": "code",
   "execution_count": 6,
   "metadata": {},
   "outputs": [],
   "source": [
    "#create feature and target data frames\n",
    "df_X = pd.DataFrame(credit_g_dict.data,columns=credit_g_dict.feature_names)\n",
    "df_y = pd.DataFrame(credit_g_dict.target,columns=credit_g_dict.target_names)"
   ]
  },
  {
   "cell_type": "code",
   "execution_count": 7,
   "metadata": {},
   "outputs": [
    {
     "data": {
      "image/png": "[encoded data removed]",
      "text/plain": [
       "<Figure size 1008x576 with 3 Axes>"
      ]
     },
     "metadata": {
      "needs_background": "light"
     },
     "output_type": "display_data"
    }
   ],
   "source": [
    "#distribution of the continuous variables    \n",
    "fig, ax = plt.subplots(1,3,figsize=(14,8))\n",
    "\n",
    "ax[0].hist(df_X[\"duration\"],bins=\"auto\",)\n",
    "ax[1].hist(df_X[\"credit_amount\"],bins=\"auto\")\n",
    "ax[2].hist(df_X[\"age\"],bins=\"auto\")\n",
    "\n",
    "ax[0].set_xlabel(\"duration\")\n",
    "ax[1].set_xlabel(\"credit amount\")\n",
    "ax[2].set_xlabel(\"age\")\n",
    "\n",
    "ax[0].set_ylabel(\"count\")\n",
    "ax[1].set_ylabel(\"count\")\n",
    "ax[2].set_ylabel(\"count\")\n",
    "\n",
    "ax[0].title.set_text(\"Distribution of duration\")\n",
    "ax[1].title.set_text(\"Distribution of credit_amount\")\n",
    "ax[2].title.set_text(\"Distribution of age\")"
   ]
  },
  {
   "cell_type": "code",
   "execution_count": 8,
   "metadata": {},
   "outputs": [
    {
     "data": {
      "text/plain": [
       "Text(0.5, 1.0, 'Distribution of the target')"
      ]
     },
     "execution_count": 8,
     "metadata": {},
     "output_type": "execute_result"
    },
    {
     "data": {
      "image/png": "[encoded data removed]",
      "text/plain": [
       "<Figure size 432x288 with 1 Axes>"
      ]
     },
     "metadata": {
      "needs_background": "light"
     },
     "output_type": "display_data"
    }
   ],
   "source": [
    "#distribution of the target\n",
    "df_y['class'].value_counts().plot(kind='bar')\n",
    "plt.title(\"Distribution of the target\")"
   ]
  },
  {
   "cell_type": "markdown",
   "metadata": {},
   "source": [
    "## 1.3 Preprocessing of the features"
   ]
  },
  {
   "cell_type": "code",
   "execution_count": 9,
   "metadata": {},
   "outputs": [],
   "source": [
    "#We encode the target to 0-1 values\n",
    "df_y[\"IsGood\"] = df_y[\"class\"].apply(lambda x: int(x==\"good\"))\n",
    "\n",
    "#We convert the categorical variables to objects\n",
    "#To do so we consider all columns other than age, duration and credit_amount\n",
    "df = df_X[df_X.columns.difference([\"age\",\"duration\",\"credit_amount\"])].astype(\"object\")\n",
    "\n",
    "#We dummy encode the categorical variables and save them to df\n",
    "df = pd.get_dummies(df)\n",
    "\n",
    "#We scale the continuous variables and append them to df\n",
    "scaler = StandardScaler()\n",
    "scaler.fit(df_X[[\"age\",\"duration\",\"credit_amount\"]])\n",
    "df = pd.concat([df, pd.DataFrame(scaler.transform(df_X[[\"age\",\"duration\",\"credit_amount\"]]),columns=[\"age\",\"duration\",\"credit_amount\"])\n",
    "], axis=1)"
   ]
  },
  {
   "cell_type": "code",
   "execution_count": 10,
   "metadata": {},
   "outputs": [
    {
     "data": {
      "text/plain": [
       "(1000, 71)"
      ]
     },
     "execution_count": 10,
     "metadata": {},
     "output_type": "execute_result"
    }
   ],
   "source": [
    "np.shape(df)"
   ]
  },
  {
   "cell_type": "markdown",
   "metadata": {},
   "source": [
    "Scaling the continuous variables and encoding the categorical variables now means our preprocessed dataframe, df, has 71 features.\n",
    "\n",
    "Let us note that we also encoded the values of the target to be 1 if the class is \"good\" and 0 otherwise (stored in df_y[\"IsGood\"])."
   ]
  },
  {
   "cell_type": "code",
   "execution_count": 11,
   "metadata": {},
   "outputs": [
    {
     "data": {
      "text/plain": [
       "0.7446808510638298"
      ]
     },
     "execution_count": 11,
     "metadata": {},
     "output_type": "execute_result"
    }
   ],
   "source": [
    "#Initial Logistic Regression Model\n",
    "\n",
    "X_train, X_test, y_train, y_test = train_test_split(df,df_y[\"IsGood\"])\n",
    "\n",
    "#We evaluate the model using a training/validation split\n",
    "X_train_2, X_validate, y_train_2, y_validate = train_test_split(X_train,y_train)\n",
    "model = LogisticRegression().fit(X_train_2,y_train_2)\n",
    "model.score(X_validate,y_validate)\n"
   ]
  },
  {
   "cell_type": "markdown",
   "metadata": {},
   "source": [
    "The logistic regression model without using pipelines yields 74.5% accuracy on the validation set."
   ]
  },
  {
   "cell_type": "markdown",
   "metadata": {},
   "source": [
    "## 1.4 Using Pipelines"
   ]
  },
  {
   "cell_type": "markdown",
   "metadata": {},
   "source": [
    "We fit the first models without scaling the continuous features. We Dummy encode the categorical variables."
   ]
  },
  {
   "cell_type": "code",
   "execution_count": 13,
   "metadata": {},
   "outputs": [
    {
     "name": "stdout",
     "output_type": "stream",
     "text": [
      "Logistic Regression with Pipeline Score : 0.7266666666666666\n",
      "Linear SVC with Pipeline Score : 0.6973333333333332\n",
      "K-Nearest Neighbors with Pipeline Score : 0.6533333333333333\n"
     ]
    }
   ],
   "source": [
    "#We compare the classifiers without scaling the continuous features\n",
    "warnings.filterwarnings('ignore')\n",
    "\n",
    "df = df_X[df_X.columns.difference([\"age\",\"duration\",\"credit_amount\"])].astype(\"object\")\n",
    "df = pd.concat([df,df_X[[\"age\",\"duration\",\"credit_amount\"]]],axis=1)\n",
    "\n",
    "categorical = df.dtypes == object\n",
    "\n",
    "preprocess = make_column_transformer((OneHotEncoder(), categorical),(\"passthrough\",~categorical))\n",
    "\n",
    "\n",
    "X_train, X_test, y_train, y_test = train_test_split(df,df_y[\"IsGood\"])\n",
    "\n",
    "model_log_reg = make_pipeline(preprocess, LogisticRegression())\n",
    "model_lin_SVC = make_pipeline(preprocess, LinearSVC())\n",
    "model_KNN = make_pipeline(preprocess,KNeighborsClassifier())\n",
    "\n",
    "scores_log_reg = np.mean(cross_val_score(model_log_reg, X_train, y_train))\n",
    "scores_lin_SVC = np.mean(cross_val_score(model_lin_SVC,X_train,y_train))\n",
    "scores_KNN = np.mean(cross_val_score(model_KNN,X_train,y_train))\n",
    "\n",
    "print(\"Logistic Regression with Pipeline Score : \"+str(scores_log_reg))\n",
    "print(\"Linear SVC with Pipeline Score : \"+str(scores_lin_SVC))\n",
    "print(\"K-Nearest Neighbors with Pipeline Score : \"+str(scores_KNN))"
   ]
  },
  {
   "cell_type": "markdown",
   "metadata": {},
   "source": [
    "In some cases, the returned scores are nan. This seems to indicate that we should scale our continuous variables if we want to obtain consistent results. \n",
    "\n",
    "Let us see if the score on the dataset with scaled continuous features is better than for unscaled data(this would confirm our decision to scale)."
   ]
  },
  {
   "cell_type": "markdown",
   "metadata": {},
   "source": [
    "We compare these results to those obtained when we scale the continuous features."
   ]
  },
  {
   "cell_type": "code",
   "execution_count": 12,
   "metadata": {},
   "outputs": [
    {
     "name": "stdout",
     "output_type": "stream",
     "text": [
      "Logistic Regression with Pipeline Score : 0.7573333333333334\n",
      "Linear SVC with Pipeline Score : 0.756\n",
      "K-Nearest Neighbors with Pipeline Score : 0.74\n"
     ]
    }
   ],
   "source": [
    "warnings.filterwarnings('ignore')\n",
    "df = df_X[df_X.columns.difference([\"age\",\"duration\",\"credit_amount\"])].astype(\"object\")\n",
    "df = pd.concat([df,df_X[[\"age\",\"duration\",\"credit_amount\"]]],axis=1)\n",
    "\n",
    "categorical = df.dtypes == object\n",
    "\n",
    "preprocess = make_column_transformer((StandardScaler(), ~categorical),(OneHotEncoder(), categorical))\n",
    "\n",
    "\n",
    "X_train, X_test, y_train, y_test = train_test_split(df,df_y[\"IsGood\"])\n",
    "X_train_2, X_validate, y_train_2, y_validate = train_test_split(X_train,y_train)\n",
    "\n",
    "model_log_reg = make_pipeline(preprocess, LogisticRegression())\n",
    "model_lin_SVC = make_pipeline(preprocess, LinearSVC())\n",
    "model_KNN = make_pipeline(preprocess,KNeighborsClassifier())\n",
    "\n",
    "scores_log_reg = np.mean(cross_val_score(model_log_reg, X_train, y_train))\n",
    "scores_lin_SVC = np.mean(cross_val_score(model_lin_SVC,X_train,y_train))\n",
    "scores_KNN = np.mean(cross_val_score(model_KNN,X_train,y_train))\n",
    "\n",
    "print(\"Logistic Regression with Pipeline Score : \"+str(scores_log_reg))\n",
    "print(\"Linear SVC with Pipeline Score : \"+str(scores_lin_SVC))\n",
    "print(\"K-Nearest Neighbors with Pipeline Score : \"+str(scores_KNN))"
   ]
  },
  {
   "cell_type": "markdown",
   "metadata": {},
   "source": [
    "We observe that in general, scaling the continuous variables improves accuracy (a few percentage points improvement). From now on, we will consider the data where the continuous variables are scaled."
   ]
  },
  {
   "cell_type": "code",
   "execution_count": 13,
   "metadata": {},
   "outputs": [],
   "source": [
    "#We scale the continuous variables, Dummy encode the categorical variables, and train-test split\n",
    "df = df_X[df_X.columns.difference([\"age\",\"duration\",\"credit_amount\"])].astype(\"object\")\n",
    "df = pd.concat([df,df_X[[\"age\",\"duration\",\"credit_amount\"]]],axis=1)\n",
    "\n",
    "categorical = df.dtypes == object\n",
    "\n",
    "preprocess = make_column_transformer((OneHotEncoder(), categorical),(StandardScaler(), ~categorical))\n",
    "\n",
    "df = make_pipeline(preprocess).fit_transform(df)\n",
    "\n",
    "X_train,X_test,y_train,y_test = train_test_split(df,df_y[\"IsGood\"])\n",
    "\n",
    "#We convert X_train and X_test from sparse matrix to array\n",
    "X_train = X_train.toarray()\n",
    "X_test = X_test.toarray()\n"
   ]
  },
  {
   "cell_type": "markdown",
   "metadata": {},
   "source": [
    "## 1.5 Parameter Tuning"
   ]
  },
  {
   "cell_type": "code",
   "execution_count": 14,
   "metadata": {},
   "outputs": [
    {
     "name": "stdout",
     "output_type": "stream",
     "text": [
      "Best model based on training : {'regressor': LogisticRegression(C=2.154434690031882, class_weight=None, dual=False,\n",
      "                   fit_intercept=True, intercept_scaling=1, l1_ratio=None,\n",
      "                   max_iter=100, multi_class='auto', n_jobs=None, penalty='l2',\n",
      "                   random_state=None, solver='lbfgs', tol=0.0001, verbose=0,\n",
      "                   warm_start=False), 'regressor__C': 2.154434690031882}\n",
      "Score of best model on training : 0.7946666666666666\n"
     ]
    }
   ],
   "source": [
    "warnings.filterwarnings('ignore')\n",
    "pipe = Pipeline([(\"regressor\",LogisticRegression())])\n",
    "param_grid = [{'regressor': [LogisticRegression()],\n",
    "               'regressor__C':np.logspace(-3,3,10)},\n",
    "              {'regressor': [LinearSVC()],\n",
    "               'regressor__C':np.logspace(-3,3,10)},\n",
    "              {'regressor': [KNeighborsClassifier()],\n",
    "              'regressor__n_neighbors':range(1,10)\n",
    "             }]\n",
    "\n",
    "grid = GridSearchCV(pipe, param_grid,cv=5)\n",
    "grid.fit(X_train,y_train)\n",
    "\n",
    "print(\"Best model based on training : \"+ str(grid.best_params_))\n",
    "print(\"Score of best model on training : \"+str(grid.score(X_train,y_train)))\n"
   ]
  },
  {
   "cell_type": "markdown",
   "metadata": {},
   "source": [
    "Parameter Tuning improves results by a few percentage points. The model which best performs on training data is sometimes Logistic Regression and sometimes LinearSVC. This seems to indicate that both methods reach similar optima. In this run, it was a Logistic Regression model with C=2.15. Let us see how this model performs on the test set."
   ]
  },
  {
   "cell_type": "code",
   "execution_count": 15,
   "metadata": {},
   "outputs": [
    {
     "name": "stdout",
     "output_type": "stream",
     "text": [
      "Test score : 0.744\n"
     ]
    }
   ],
   "source": [
    "print(\"Test score : \"+ str(grid.score(X_test,y_test)))"
   ]
  },
  {
   "cell_type": "markdown",
   "metadata": {},
   "source": [
    "The test score is similar to the validation scores of the previous models. This seems to indicate that the model has not overfitted."
   ]
  },
  {
   "cell_type": "code",
   "execution_count": 16,
   "metadata": {},
   "outputs": [
    {
     "data": {
      "text/plain": [
       "<matplotlib.legend.Legend at 0x280742a9828>"
      ]
     },
     "execution_count": 16,
     "metadata": {},
     "output_type": "execute_result"
    },
    {
     "data": {
      "image/png": "[encoded data removed]",
      "text/plain": [
       "<Figure size 720x504 with 3 Axes>"
      ]
     },
     "metadata": {
      "needs_background": "light"
     },
     "output_type": "display_data"
    }
   ],
   "source": [
    "#Performance as function of Parameters for Logistic Regression, LinearSVC and KNN\n",
    "warnings.filterwarnings('ignore')\n",
    "C = np.logspace(-3,3,10)\n",
    "n_neighbors = range(1,10)\n",
    "\n",
    "LR_test_score_grid = [LogisticRegression(C=C[i]).fit(X_train,y_train).score(X_test,y_test) for i in range(len(C))]\n",
    "SVC_test_score_grid = [LinearSVC(C=C[i]).fit(X_train,y_train).score(X_test,y_test) for i in range(len(C))]\n",
    "KNN_test_score_grid = [KNeighborsClassifier(n_neighbors=n_neighbors[i]).fit(X_train,y_train).score(X_test,y_test) for i in range(len(n_neighbors))]\n",
    "\n",
    "fig, ax = plt.subplots(1,3,figsize=(10,7))\n",
    "\n",
    "ax[0].plot(C,LR_test_score_grid,label=\"Score\")\n",
    "ax[0].set_xscale(\"log\")\n",
    "ax[0].set_xlabel(\"C\")\n",
    "ax[0].set_ylabel(\"score\")\n",
    "ax[0].title.set_text(\"Test Score of Logistic Regression\")\n",
    "ax[0].legend()\n",
    "\n",
    "ax[1].plot(C,SVC_test_score_grid,label=\"Score\")\n",
    "ax[1].set_xscale(\"log\")\n",
    "ax[1].set_xlabel(\"C\")\n",
    "ax[1].set_ylabel(\"score\")\n",
    "ax[1].title.set_text(\"Test Score of Linear SVC\")\n",
    "ax[1].legend()\n",
    "\n",
    "ax[2].plot(n_neighbors,KNN_test_score_grid,label=\"Score\")\n",
    "ax[2].set_xlabel(\"n_neighbors\")\n",
    "ax[2].set_ylabel(\"score\")\n",
    "ax[2].title.set_text(\"Test Score of K-Nearest Neighbors\")\n",
    "ax[2].legend()\n",
    "\n"
   ]
  },
  {
   "cell_type": "markdown",
   "metadata": {},
   "source": [
    "The performance graphs confirm that Logistic Regression models are the most reliable of the three classification methods, as the test scores are consistently above 70% even when the parameters change. LinearSVC tends to have worse results for large values of C. K-Nearest Neighbors results are lower in general than for the other two methods."
   ]
  },
  {
   "cell_type": "markdown",
   "metadata": {},
   "source": [
    "## 1.6 Cross Validation without Stratification and with Shuffling"
   ]
  },
  {
   "cell_type": "code",
   "execution_count": 17,
   "metadata": {},
   "outputs": [
    {
     "name": "stdout",
     "output_type": "stream",
     "text": [
      "Best model based on training : {'regressor': LogisticRegression(C=0.46415888336127775, class_weight=None, dual=False,\n",
      "                   fit_intercept=True, intercept_scaling=1, l1_ratio=None,\n",
      "                   max_iter=100, multi_class='auto', n_jobs=None, penalty='l2',\n",
      "                   random_state=None, solver='lbfgs', tol=0.0001, verbose=0,\n",
      "                   warm_start=False), 'regressor__C': 0.46415888336127775}\n",
      "Score of best model on test : 0.732\n"
     ]
    }
   ],
   "source": [
    "# KFold Cross-validation with Shuffling\n",
    "warnings.filterwarnings('ignore')\n",
    "cv = KFold(5,shuffle=True)\n",
    "\n",
    "pipe = Pipeline([('regressor',LogisticRegression())])\n",
    "\n",
    "param_grid = [{'regressor': [LogisticRegression()],\n",
    "               'regressor__C':np.logspace(-3,3,10)},\n",
    "              {'regressor': [LinearSVC()],\n",
    "               'regressor__C':np.logspace(-3,3,10)},\n",
    "              {'regressor': [KNeighborsClassifier()],\n",
    "              'regressor__n_neighbors':range(1,10)\n",
    "             }]\n",
    "\n",
    "grid = GridSearchCV(pipe, param_grid,cv=cv,)\n",
    "grid.fit(X_train,y_train)\n",
    "\n",
    "print(\"Best model based on training : \"+ str(grid.best_params_))\n",
    "print(\"Score of best model on test : \"+str(grid.score(X_test,y_test)))\n"
   ]
  },
  {
   "cell_type": "markdown",
   "metadata": {},
   "source": [
    "When we use shuffling and KFold, the best model on this run was LogisticRegression, but the value of the parameter found changed."
   ]
  },
  {
   "cell_type": "code",
   "execution_count": 18,
   "metadata": {},
   "outputs": [
    {
     "name": "stdout",
     "output_type": "stream",
     "text": [
      "Best model based on training : {'regressor': LinearSVC(C=0.021544346900318832, class_weight=None, dual=True,\n",
      "          fit_intercept=True, intercept_scaling=1, loss='squared_hinge',\n",
      "          max_iter=1000, multi_class='ovr', penalty='l2', random_state=None,\n",
      "          tol=0.0001, verbose=0), 'regressor__C': 0.021544346900318832}\n",
      "Score of best model on test : 0.72\n"
     ]
    }
   ],
   "source": [
    "# KFold Cross-Validation with random seed Shuffling \n",
    "warnings.filterwarnings('ignore')\n",
    "cv = KFold(5,shuffle=True,random_state=RandomState(1))\n",
    "\n",
    "pipe = Pipeline([('regressor',LogisticRegression())])\n",
    "\n",
    "param_grid = [{'regressor': [LogisticRegression()],\n",
    "               'regressor__C':np.logspace(-3,3,10)},\n",
    "              {'regressor': [LinearSVC()],\n",
    "               'regressor__C':np.logspace(-3,3,10)},\n",
    "              {'regressor': [KNeighborsClassifier()],\n",
    "              'regressor__n_neighbors':range(1,10)\n",
    "             }]\n",
    "\n",
    "grid = GridSearchCV(pipe, param_grid,cv=cv,)\n",
    "grid.fit(X_train,y_train)\n",
    "\n",
    "print(\"Best model based on training : \"+ str(grid.best_params_))\n",
    "print(\"Score of best model on test : \"+str(grid.score(X_test,y_test)))\n"
   ]
  },
  {
   "cell_type": "markdown",
   "metadata": {},
   "source": [
    "Changing the Random Seed has once again changed the optimal estimator. The best estimator is now a LinearSVC model with C=0.022(results might change if you run the code again)."
   ]
  },
  {
   "cell_type": "code",
   "execution_count": 19,
   "metadata": {},
   "outputs": [
    {
     "name": "stdout",
     "output_type": "stream",
     "text": [
      "Best model based on training : {'regressor': LinearSVC(C=0.021544346900318832, class_weight=None, dual=True,\n",
      "          fit_intercept=True, intercept_scaling=1, loss='squared_hinge',\n",
      "          max_iter=1000, multi_class='ovr', penalty='l2', random_state=None,\n",
      "          tol=0.0001, verbose=0), 'regressor__C': 0.021544346900318832}\n",
      "Score of best model on test : 0.76\n"
     ]
    }
   ],
   "source": [
    "# KFold Cross-Validation with Shuffling, random seed and random state train test split\n",
    "warnings.filterwarnings('ignore')\n",
    "X_train, X_test, y_train, y_test = train_test_split(df,df_y[\"IsGood\"],random_state=RandomState(1))\n",
    "\n",
    "#We convert X_train and X_test from sparse matrix to array\n",
    "X_train = X_train.toarray()\n",
    "X_test = X_test.toarray()\n",
    "\n",
    "cv = KFold(5,shuffle=True,random_state=RandomState(1))\n",
    "\n",
    "pipe = Pipeline([('regressor',LogisticRegression())])\n",
    "\n",
    "param_grid = [{'regressor': [LogisticRegression()],\n",
    "               'regressor__C':np.logspace(-3,3,10)},\n",
    "              {'regressor': [LinearSVC()],\n",
    "               'regressor__C':np.logspace(-3,3,10)},\n",
    "              {'regressor': [KNeighborsClassifier()],\n",
    "              'regressor__n_neighbors':range(1,10)\n",
    "             }]\n",
    "\n",
    "grid = GridSearchCV(pipe, param_grid,cv=cv,)\n",
    "grid.fit(X_train,y_train)\n",
    "\n",
    "print(\"Best model based on training : \"+ str(grid.best_params_))\n",
    "print(\"Score of best model on test : \"+str(grid.score(X_test,y_test)))\n",
    "\n"
   ]
  },
  {
   "cell_type": "markdown",
   "metadata": {},
   "source": [
    "Changing the random state of the split into training and test and repeating this process for the train/validation split did not change the value of the parameter or the estimator in this instance. The best model is still a LinearSVC model.  It is worth noting that for some runs, the best estimator is a LogisticRegression, whose parameters also change when we introduce shuffling, KFold and RandomStates."
   ]
  },
  {
   "cell_type": "markdown",
   "metadata": {},
   "source": [
    "## 1.7 Visualizing main coefficients"
   ]
  },
  {
   "cell_type": "code",
   "execution_count": 20,
   "metadata": {},
   "outputs": [],
   "source": [
    "#We first select satisfactory parameters for LogisticRegression\n",
    "warnings.filterwarnings('ignore')\n",
    "pipe = Pipeline([('regressor',LogisticRegression())])\n",
    "\n",
    "param_grid = [{'regressor': [LogisticRegression()],\n",
    "               'regressor__C':np.logspace(-3,3,10)}]\n",
    "\n",
    "grid = GridSearchCV(pipe, param_grid)\n",
    "grid.fit(X_train,y_train)\n",
    "\n",
    "model_LR = LogisticRegression(C = grid.best_params_[\"regressor__C\"]).fit(X_train,y_train)\n",
    "\n",
    "#We select satisfactory parameters for LinearSVC\n",
    "\n",
    "pipe = Pipeline([('regressor',LinearSVC())])\n",
    "\n",
    "param_grid = [{'regressor': [LinearSVC()],\n",
    "               'regressor__C':np.logspace(-3,3,10)}]\n",
    "\n",
    "grid = GridSearchCV(pipe, param_grid)\n",
    "grid.fit(X_train,y_train)\n",
    "\n",
    "model_SVC = LinearSVC(C = grid.best_params_[\"regressor__C\"]).fit(X_train,y_train)"
   ]
  },
  {
   "cell_type": "code",
   "execution_count": 21,
   "metadata": {},
   "outputs": [
    {
     "data": {
      "text/plain": [
       "<matplotlib.legend.Legend at 0x280740128d0>"
      ]
     },
     "execution_count": 21,
     "metadata": {},
     "output_type": "execute_result"
    },
    {
     "data": {
      "image/png": "[encoded data removed]",
      "text/plain": [
       "<Figure size 720x576 with 1 Axes>"
      ]
     },
     "metadata": {
      "needs_background": "light"
     },
     "output_type": "display_data"
    }
   ],
   "source": [
    "#We select the 20 most important coefficients (i.e those with largest absolute value) for Logistic Regression and LinearSVC\n",
    "coef_LR = np.absolute(model_LR.coef_)\n",
    "coef_LR = np.argsort(coef_LR) #sorts from smallest to largest\n",
    "coef_LR = np.flip(coef_LR)[0][:20] #selects 20 most important coefs\n",
    "\n",
    "coef_SVC = np.absolute(model_SVC.coef_)\n",
    "coef_SVC = np.argsort(coef_SVC) \n",
    "coef_SVC = np.flip(coef_SVC)[0][:20] \n",
    "\n",
    "plt.figure(figsize=(10,8))\n",
    "plt.scatter(coef_LR,[model_LR.coef_[0][i] for i in coef_LR],marker=\"+\",c=\"r\",label=\"Logistic Regression\")\n",
    "plt.scatter(coef_SVC,[model_SVC.coef_[0][i] for i in coef_SVC],marker=\"+\",c=\"b\",label=\"Linear SVC\")\n",
    "plt.xlabel(\"Coefficient Position\")\n",
    "plt.ylabel(\"Coefficient Value\")\n",
    "plt.title(\"20 Most important parameters for Logistic Regression and Linear SVC\")\n",
    "plt.grid()\n",
    "plt.legend(loc=\"upper right\")"
   ]
  },
  {
   "cell_type": "code",
   "execution_count": 22,
   "metadata": {},
   "outputs": [
    {
     "name": "stdout",
     "output_type": "stream",
     "text": [
      "[ 0  3  4  8 12 23 24 26 34 35 38 49 50 52 59 63 66 67 69 70]\n",
      "[ 0  3  4  8 14 17 19 23 26 27 34 35 49 50 54 55 56 58 59 66]\n"
     ]
    }
   ],
   "source": [
    "print(np.sort(coef_LR))\n",
    "print(np.sort(coef_SVC))"
   ]
  },
  {
   "cell_type": "markdown",
   "metadata": {},
   "source": [
    "The 20 most important parameters for Linear Regression and for Linear SVC are almost identical (even though their magnitudes are different)."
   ]
  }
 ],
 "metadata": {
  "kernelspec": {
   "display_name": "Python 3",
   "language": "python",
   "name": "python3"
  },
  "language_info": {
   "codemirror_mode": {
    "name": "ipython",
    "version": 3
   },
   "file_extension": ".py",
   "mimetype": "text/x-python",
   "name": "python",
   "nbconvert_exporter": "python",
   "pygments_lexer": "ipython3",
   "version": "3.6.5"
  }
 },
 "nbformat": 4,
 "nbformat_minor": 2
}
